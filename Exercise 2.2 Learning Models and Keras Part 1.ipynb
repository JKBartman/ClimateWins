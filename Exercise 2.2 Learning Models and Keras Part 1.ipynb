{
 "cells": [
  {
   "cell_type": "markdown",
   "id": "bd091f62-b823-4e63-8e7d-7b4ae01fa699",
   "metadata": {},
   "source": [
    "# 2.2 Learning Models and Keras Part 1"
   ]
  },
  {
   "cell_type": "markdown",
   "id": "176c0a09-1243-4197-a147-cd42e0f977ec",
   "metadata": {},
   "source": [
    "## Index\n",
    "### Import Libraries and Data\n",
    "### Clean Data\n",
    "### Reshape Data\n",
    "### Split Data\n",
    "### Create Keras Model\n",
    "### Compile and run RNN Model\n",
    "### Confusion Matrix of Model\n",
    "### Adjust Hyperparameters\n",
    "### Adjust Hyperparameters and changing Activation\n",
    "### Adjust Hyperparameters, adding convolution and pooling layers, changing optimizer\n",
    "### Hyperparameters2"
   ]
  },
  {
   "cell_type": "markdown",
   "id": "01847941-4249-4745-ab04-a45127fd7b4b",
   "metadata": {},
   "source": [
    "## Import Libraries and Data"
   ]
  },
  {
   "cell_type": "code",
   "execution_count": 5,
   "id": "995b5d71-7c27-4053-8fc8-a9940783ec34",
   "metadata": {},
   "outputs": [],
   "source": [
    "import pandas as pd\n",
    "import numpy as np\n",
    "import seaborn as sns\n",
    "import os\n",
    "import operator\n",
    "import matplotlib.pyplot as plt\n",
    "import tensorflow as tf\n",
    "from tensorflow import keras\n",
    "from numpy import unique\n",
    "from numpy import reshape\n",
    "from keras.models import Sequential\n",
    "from keras.layers import Conv1D, Conv2D, Dense, BatchNormalization, Flatten, MaxPooling1D, Dropout, LSTM\n",
    "from keras.utils import to_categorical\n",
    "from sklearn.model_selection import train_test_split\n",
    "from sklearn.preprocessing import LabelEncoder"
   ]
  },
  {
   "cell_type": "code",
   "execution_count": 7,
   "id": "120dffa0-dcc3-43d2-ab3d-f6894c9764bb",
   "metadata": {},
   "outputs": [],
   "source": [
    "path = r'C:/Users/Jack Bartman/OneDrive/CareerFoundry/Machine Learning'"
   ]
  },
  {
   "cell_type": "code",
   "execution_count": 9,
   "id": "2c0741b0-29c8-4604-863f-f6e57fb97f1b",
   "metadata": {},
   "outputs": [],
   "source": [
    "# Import data\n",
    "climate =pd.read_csv(os.path.join(path, '02 Data', 'Original Data', 'DATASET weather_prediction_dataset_processed.csv'))"
   ]
  },
  {
   "cell_type": "code",
   "execution_count": 11,
   "id": "3405d3cb-e40f-4dea-9c67-fef82a5c588d",
   "metadata": {},
   "outputs": [],
   "source": [
    "pleasant =pd.read_csv(os.path.join(path, '02 Data', 'Original Data', 'Dataset-Answers-Weather_Prediction_Pleasant_Weather.csv'))"
   ]
  },
  {
   "cell_type": "markdown",
   "id": "eec7a767-645c-4008-bcce-b472e1a1b112",
   "metadata": {},
   "source": [
    "## Clean Data"
   ]
  },
  {
   "cell_type": "code",
   "execution_count": 14,
   "id": "5531a9f8-7380-4083-b80a-62b9bb198e64",
   "metadata": {},
   "outputs": [
    {
     "data": {
      "text/html": [
       "<div>\n",
       "<style scoped>\n",
       "    .dataframe tbody tr th:only-of-type {\n",
       "        vertical-align: middle;\n",
       "    }\n",
       "\n",
       "    .dataframe tbody tr th {\n",
       "        vertical-align: top;\n",
       "    }\n",
       "\n",
       "    .dataframe thead th {\n",
       "        text-align: right;\n",
       "    }\n",
       "</style>\n",
       "<table border=\"1\" class=\"dataframe\">\n",
       "  <thead>\n",
       "    <tr style=\"text-align: right;\">\n",
       "      <th></th>\n",
       "      <th>DATE</th>\n",
       "      <th>MONTH</th>\n",
       "      <th>BASEL_cloud_cover</th>\n",
       "      <th>BASEL_wind_speed</th>\n",
       "      <th>BASEL_humidity</th>\n",
       "      <th>BASEL_pressure</th>\n",
       "      <th>BASEL_global_radiation</th>\n",
       "      <th>BASEL_precipitation</th>\n",
       "      <th>BASEL_snow_depth</th>\n",
       "      <th>BASEL_sunshine</th>\n",
       "      <th>...</th>\n",
       "      <th>VALENTIA_cloud_cover</th>\n",
       "      <th>VALENTIA_humidity</th>\n",
       "      <th>VALENTIA_pressure</th>\n",
       "      <th>VALENTIA_global_radiation</th>\n",
       "      <th>VALENTIA_precipitation</th>\n",
       "      <th>VALENTIA_snow_depth</th>\n",
       "      <th>VALENTIA_sunshine</th>\n",
       "      <th>VALENTIA_temp_mean</th>\n",
       "      <th>VALENTIA_temp_min</th>\n",
       "      <th>VALENTIA_temp_max</th>\n",
       "    </tr>\n",
       "  </thead>\n",
       "  <tbody>\n",
       "    <tr>\n",
       "      <th>0</th>\n",
       "      <td>19600101</td>\n",
       "      <td>1</td>\n",
       "      <td>7</td>\n",
       "      <td>2.1</td>\n",
       "      <td>0.85</td>\n",
       "      <td>1.018</td>\n",
       "      <td>0.32</td>\n",
       "      <td>0.09</td>\n",
       "      <td>0</td>\n",
       "      <td>0.7</td>\n",
       "      <td>...</td>\n",
       "      <td>5</td>\n",
       "      <td>0.88</td>\n",
       "      <td>1.0003</td>\n",
       "      <td>0.45</td>\n",
       "      <td>0.34</td>\n",
       "      <td>0</td>\n",
       "      <td>4.7</td>\n",
       "      <td>8.5</td>\n",
       "      <td>6.0</td>\n",
       "      <td>10.9</td>\n",
       "    </tr>\n",
       "    <tr>\n",
       "      <th>1</th>\n",
       "      <td>19600102</td>\n",
       "      <td>1</td>\n",
       "      <td>6</td>\n",
       "      <td>2.1</td>\n",
       "      <td>0.84</td>\n",
       "      <td>1.018</td>\n",
       "      <td>0.36</td>\n",
       "      <td>1.05</td>\n",
       "      <td>0</td>\n",
       "      <td>1.1</td>\n",
       "      <td>...</td>\n",
       "      <td>7</td>\n",
       "      <td>0.91</td>\n",
       "      <td>1.0007</td>\n",
       "      <td>0.25</td>\n",
       "      <td>0.84</td>\n",
       "      <td>0</td>\n",
       "      <td>0.7</td>\n",
       "      <td>8.9</td>\n",
       "      <td>5.6</td>\n",
       "      <td>12.1</td>\n",
       "    </tr>\n",
       "    <tr>\n",
       "      <th>2</th>\n",
       "      <td>19600103</td>\n",
       "      <td>1</td>\n",
       "      <td>8</td>\n",
       "      <td>2.1</td>\n",
       "      <td>0.90</td>\n",
       "      <td>1.018</td>\n",
       "      <td>0.18</td>\n",
       "      <td>0.30</td>\n",
       "      <td>0</td>\n",
       "      <td>0.0</td>\n",
       "      <td>...</td>\n",
       "      <td>7</td>\n",
       "      <td>0.91</td>\n",
       "      <td>1.0096</td>\n",
       "      <td>0.17</td>\n",
       "      <td>0.08</td>\n",
       "      <td>0</td>\n",
       "      <td>0.1</td>\n",
       "      <td>10.5</td>\n",
       "      <td>8.1</td>\n",
       "      <td>12.9</td>\n",
       "    </tr>\n",
       "    <tr>\n",
       "      <th>3</th>\n",
       "      <td>19600104</td>\n",
       "      <td>1</td>\n",
       "      <td>3</td>\n",
       "      <td>2.1</td>\n",
       "      <td>0.92</td>\n",
       "      <td>1.018</td>\n",
       "      <td>0.58</td>\n",
       "      <td>0.00</td>\n",
       "      <td>0</td>\n",
       "      <td>4.1</td>\n",
       "      <td>...</td>\n",
       "      <td>7</td>\n",
       "      <td>0.86</td>\n",
       "      <td>1.0184</td>\n",
       "      <td>0.13</td>\n",
       "      <td>0.98</td>\n",
       "      <td>0</td>\n",
       "      <td>0.0</td>\n",
       "      <td>7.4</td>\n",
       "      <td>7.3</td>\n",
       "      <td>10.6</td>\n",
       "    </tr>\n",
       "    <tr>\n",
       "      <th>4</th>\n",
       "      <td>19600105</td>\n",
       "      <td>1</td>\n",
       "      <td>6</td>\n",
       "      <td>2.1</td>\n",
       "      <td>0.95</td>\n",
       "      <td>1.018</td>\n",
       "      <td>0.65</td>\n",
       "      <td>0.14</td>\n",
       "      <td>0</td>\n",
       "      <td>5.4</td>\n",
       "      <td>...</td>\n",
       "      <td>3</td>\n",
       "      <td>0.80</td>\n",
       "      <td>1.0328</td>\n",
       "      <td>0.46</td>\n",
       "      <td>0.00</td>\n",
       "      <td>0</td>\n",
       "      <td>5.7</td>\n",
       "      <td>5.7</td>\n",
       "      <td>3.0</td>\n",
       "      <td>8.4</td>\n",
       "    </tr>\n",
       "  </tbody>\n",
       "</table>\n",
       "<p>5 rows × 170 columns</p>\n",
       "</div>"
      ],
      "text/plain": [
       "       DATE  MONTH  BASEL_cloud_cover  BASEL_wind_speed  BASEL_humidity  \\\n",
       "0  19600101      1                  7               2.1            0.85   \n",
       "1  19600102      1                  6               2.1            0.84   \n",
       "2  19600103      1                  8               2.1            0.90   \n",
       "3  19600104      1                  3               2.1            0.92   \n",
       "4  19600105      1                  6               2.1            0.95   \n",
       "\n",
       "   BASEL_pressure  BASEL_global_radiation  BASEL_precipitation  \\\n",
       "0           1.018                    0.32                 0.09   \n",
       "1           1.018                    0.36                 1.05   \n",
       "2           1.018                    0.18                 0.30   \n",
       "3           1.018                    0.58                 0.00   \n",
       "4           1.018                    0.65                 0.14   \n",
       "\n",
       "   BASEL_snow_depth  BASEL_sunshine  ...  VALENTIA_cloud_cover  \\\n",
       "0                 0             0.7  ...                     5   \n",
       "1                 0             1.1  ...                     7   \n",
       "2                 0             0.0  ...                     7   \n",
       "3                 0             4.1  ...                     7   \n",
       "4                 0             5.4  ...                     3   \n",
       "\n",
       "   VALENTIA_humidity  VALENTIA_pressure  VALENTIA_global_radiation  \\\n",
       "0               0.88             1.0003                       0.45   \n",
       "1               0.91             1.0007                       0.25   \n",
       "2               0.91             1.0096                       0.17   \n",
       "3               0.86             1.0184                       0.13   \n",
       "4               0.80             1.0328                       0.46   \n",
       "\n",
       "   VALENTIA_precipitation  VALENTIA_snow_depth  VALENTIA_sunshine  \\\n",
       "0                    0.34                    0                4.7   \n",
       "1                    0.84                    0                0.7   \n",
       "2                    0.08                    0                0.1   \n",
       "3                    0.98                    0                0.0   \n",
       "4                    0.00                    0                5.7   \n",
       "\n",
       "   VALENTIA_temp_mean  VALENTIA_temp_min  VALENTIA_temp_max  \n",
       "0                 8.5                6.0               10.9  \n",
       "1                 8.9                5.6               12.1  \n",
       "2                10.5                8.1               12.9  \n",
       "3                 7.4                7.3               10.6  \n",
       "4                 5.7                3.0                8.4  \n",
       "\n",
       "[5 rows x 170 columns]"
      ]
     },
     "execution_count": 14,
     "metadata": {},
     "output_type": "execute_result"
    }
   ],
   "source": [
    "climate.head()"
   ]
  },
  {
   "cell_type": "code",
   "execution_count": 16,
   "id": "a4ab4a78-6bde-43d2-be55-74ed94d1d7e4",
   "metadata": {},
   "outputs": [
    {
     "data": {
      "text/html": [
       "<div>\n",
       "<style scoped>\n",
       "    .dataframe tbody tr th:only-of-type {\n",
       "        vertical-align: middle;\n",
       "    }\n",
       "\n",
       "    .dataframe tbody tr th {\n",
       "        vertical-align: top;\n",
       "    }\n",
       "\n",
       "    .dataframe thead th {\n",
       "        text-align: right;\n",
       "    }\n",
       "</style>\n",
       "<table border=\"1\" class=\"dataframe\">\n",
       "  <thead>\n",
       "    <tr style=\"text-align: right;\">\n",
       "      <th></th>\n",
       "      <th>BASEL_cloud_cover</th>\n",
       "      <th>BASEL_wind_speed</th>\n",
       "      <th>BASEL_humidity</th>\n",
       "      <th>BASEL_pressure</th>\n",
       "      <th>BASEL_global_radiation</th>\n",
       "      <th>BASEL_precipitation</th>\n",
       "      <th>BASEL_snow_depth</th>\n",
       "      <th>BASEL_sunshine</th>\n",
       "      <th>BASEL_temp_mean</th>\n",
       "      <th>BASEL_temp_min</th>\n",
       "      <th>...</th>\n",
       "      <th>VALENTIA_cloud_cover</th>\n",
       "      <th>VALENTIA_humidity</th>\n",
       "      <th>VALENTIA_pressure</th>\n",
       "      <th>VALENTIA_global_radiation</th>\n",
       "      <th>VALENTIA_precipitation</th>\n",
       "      <th>VALENTIA_snow_depth</th>\n",
       "      <th>VALENTIA_sunshine</th>\n",
       "      <th>VALENTIA_temp_mean</th>\n",
       "      <th>VALENTIA_temp_min</th>\n",
       "      <th>VALENTIA_temp_max</th>\n",
       "    </tr>\n",
       "  </thead>\n",
       "  <tbody>\n",
       "    <tr>\n",
       "      <th>0</th>\n",
       "      <td>7</td>\n",
       "      <td>2.1</td>\n",
       "      <td>0.85</td>\n",
       "      <td>1.018</td>\n",
       "      <td>0.32</td>\n",
       "      <td>0.09</td>\n",
       "      <td>0</td>\n",
       "      <td>0.7</td>\n",
       "      <td>6.5</td>\n",
       "      <td>0.8</td>\n",
       "      <td>...</td>\n",
       "      <td>5</td>\n",
       "      <td>0.88</td>\n",
       "      <td>1.0003</td>\n",
       "      <td>0.45</td>\n",
       "      <td>0.34</td>\n",
       "      <td>0</td>\n",
       "      <td>4.7</td>\n",
       "      <td>8.5</td>\n",
       "      <td>6.0</td>\n",
       "      <td>10.9</td>\n",
       "    </tr>\n",
       "    <tr>\n",
       "      <th>1</th>\n",
       "      <td>6</td>\n",
       "      <td>2.1</td>\n",
       "      <td>0.84</td>\n",
       "      <td>1.018</td>\n",
       "      <td>0.36</td>\n",
       "      <td>1.05</td>\n",
       "      <td>0</td>\n",
       "      <td>1.1</td>\n",
       "      <td>6.1</td>\n",
       "      <td>3.3</td>\n",
       "      <td>...</td>\n",
       "      <td>7</td>\n",
       "      <td>0.91</td>\n",
       "      <td>1.0007</td>\n",
       "      <td>0.25</td>\n",
       "      <td>0.84</td>\n",
       "      <td>0</td>\n",
       "      <td>0.7</td>\n",
       "      <td>8.9</td>\n",
       "      <td>5.6</td>\n",
       "      <td>12.1</td>\n",
       "    </tr>\n",
       "    <tr>\n",
       "      <th>2</th>\n",
       "      <td>8</td>\n",
       "      <td>2.1</td>\n",
       "      <td>0.90</td>\n",
       "      <td>1.018</td>\n",
       "      <td>0.18</td>\n",
       "      <td>0.30</td>\n",
       "      <td>0</td>\n",
       "      <td>0.0</td>\n",
       "      <td>8.5</td>\n",
       "      <td>5.1</td>\n",
       "      <td>...</td>\n",
       "      <td>7</td>\n",
       "      <td>0.91</td>\n",
       "      <td>1.0096</td>\n",
       "      <td>0.17</td>\n",
       "      <td>0.08</td>\n",
       "      <td>0</td>\n",
       "      <td>0.1</td>\n",
       "      <td>10.5</td>\n",
       "      <td>8.1</td>\n",
       "      <td>12.9</td>\n",
       "    </tr>\n",
       "    <tr>\n",
       "      <th>3</th>\n",
       "      <td>3</td>\n",
       "      <td>2.1</td>\n",
       "      <td>0.92</td>\n",
       "      <td>1.018</td>\n",
       "      <td>0.58</td>\n",
       "      <td>0.00</td>\n",
       "      <td>0</td>\n",
       "      <td>4.1</td>\n",
       "      <td>6.3</td>\n",
       "      <td>3.8</td>\n",
       "      <td>...</td>\n",
       "      <td>7</td>\n",
       "      <td>0.86</td>\n",
       "      <td>1.0184</td>\n",
       "      <td>0.13</td>\n",
       "      <td>0.98</td>\n",
       "      <td>0</td>\n",
       "      <td>0.0</td>\n",
       "      <td>7.4</td>\n",
       "      <td>7.3</td>\n",
       "      <td>10.6</td>\n",
       "    </tr>\n",
       "    <tr>\n",
       "      <th>4</th>\n",
       "      <td>6</td>\n",
       "      <td>2.1</td>\n",
       "      <td>0.95</td>\n",
       "      <td>1.018</td>\n",
       "      <td>0.65</td>\n",
       "      <td>0.14</td>\n",
       "      <td>0</td>\n",
       "      <td>5.4</td>\n",
       "      <td>3.0</td>\n",
       "      <td>-0.7</td>\n",
       "      <td>...</td>\n",
       "      <td>3</td>\n",
       "      <td>0.80</td>\n",
       "      <td>1.0328</td>\n",
       "      <td>0.46</td>\n",
       "      <td>0.00</td>\n",
       "      <td>0</td>\n",
       "      <td>5.7</td>\n",
       "      <td>5.7</td>\n",
       "      <td>3.0</td>\n",
       "      <td>8.4</td>\n",
       "    </tr>\n",
       "  </tbody>\n",
       "</table>\n",
       "<p>5 rows × 168 columns</p>\n",
       "</div>"
      ],
      "text/plain": [
       "   BASEL_cloud_cover  BASEL_wind_speed  BASEL_humidity  BASEL_pressure  \\\n",
       "0                  7               2.1            0.85           1.018   \n",
       "1                  6               2.1            0.84           1.018   \n",
       "2                  8               2.1            0.90           1.018   \n",
       "3                  3               2.1            0.92           1.018   \n",
       "4                  6               2.1            0.95           1.018   \n",
       "\n",
       "   BASEL_global_radiation  BASEL_precipitation  BASEL_snow_depth  \\\n",
       "0                    0.32                 0.09                 0   \n",
       "1                    0.36                 1.05                 0   \n",
       "2                    0.18                 0.30                 0   \n",
       "3                    0.58                 0.00                 0   \n",
       "4                    0.65                 0.14                 0   \n",
       "\n",
       "   BASEL_sunshine  BASEL_temp_mean  BASEL_temp_min  ...  VALENTIA_cloud_cover  \\\n",
       "0             0.7              6.5             0.8  ...                     5   \n",
       "1             1.1              6.1             3.3  ...                     7   \n",
       "2             0.0              8.5             5.1  ...                     7   \n",
       "3             4.1              6.3             3.8  ...                     7   \n",
       "4             5.4              3.0            -0.7  ...                     3   \n",
       "\n",
       "   VALENTIA_humidity  VALENTIA_pressure  VALENTIA_global_radiation  \\\n",
       "0               0.88             1.0003                       0.45   \n",
       "1               0.91             1.0007                       0.25   \n",
       "2               0.91             1.0096                       0.17   \n",
       "3               0.86             1.0184                       0.13   \n",
       "4               0.80             1.0328                       0.46   \n",
       "\n",
       "   VALENTIA_precipitation  VALENTIA_snow_depth  VALENTIA_sunshine  \\\n",
       "0                    0.34                    0                4.7   \n",
       "1                    0.84                    0                0.7   \n",
       "2                    0.08                    0                0.1   \n",
       "3                    0.98                    0                0.0   \n",
       "4                    0.00                    0                5.7   \n",
       "\n",
       "   VALENTIA_temp_mean  VALENTIA_temp_min  VALENTIA_temp_max  \n",
       "0                 8.5                6.0               10.9  \n",
       "1                 8.9                5.6               12.1  \n",
       "2                10.5                8.1               12.9  \n",
       "3                 7.4                7.3               10.6  \n",
       "4                 5.7                3.0                8.4  \n",
       "\n",
       "[5 rows x 168 columns]"
      ]
     },
     "execution_count": 16,
     "metadata": {},
     "output_type": "execute_result"
    }
   ],
   "source": [
    "# drop date and month from climate\n",
    "climate = climate.drop(columns=['DATE', 'MONTH'], axis=1)\n",
    "climate.head()"
   ]
  },
  {
   "cell_type": "code",
   "execution_count": 18,
   "id": "b3b80c77-b29c-4a4e-b5a3-31364f0e4a32",
   "metadata": {},
   "outputs": [],
   "source": [
    "# Drop all Gdansk, Roma,Tours columns from df_unscaled since they are not included in pleasant weather data\n",
    "cols_to_drop = [col for col in climate.columns if col.startswith(('GDANSK', 'ROMA', 'TOURS'))]\n",
    "climate = climate.drop(columns=cols_to_drop)"
   ]
  },
  {
   "cell_type": "code",
   "execution_count": 20,
   "id": "24dcfa9f-44e4-444e-9b30-b2c5de5d5e2c",
   "metadata": {},
   "outputs": [
    {
     "data": {
      "text/html": [
       "<div>\n",
       "<style scoped>\n",
       "    .dataframe tbody tr th:only-of-type {\n",
       "        vertical-align: middle;\n",
       "    }\n",
       "\n",
       "    .dataframe tbody tr th {\n",
       "        vertical-align: top;\n",
       "    }\n",
       "\n",
       "    .dataframe thead th {\n",
       "        text-align: right;\n",
       "    }\n",
       "</style>\n",
       "<table border=\"1\" class=\"dataframe\">\n",
       "  <thead>\n",
       "    <tr style=\"text-align: right;\">\n",
       "      <th></th>\n",
       "      <th>BASEL_cloud_cover</th>\n",
       "      <th>BASEL_wind_speed</th>\n",
       "      <th>BASEL_humidity</th>\n",
       "      <th>BASEL_pressure</th>\n",
       "      <th>BASEL_global_radiation</th>\n",
       "      <th>BASEL_precipitation</th>\n",
       "      <th>BASEL_snow_depth</th>\n",
       "      <th>BASEL_sunshine</th>\n",
       "      <th>BASEL_temp_mean</th>\n",
       "      <th>BASEL_temp_min</th>\n",
       "      <th>...</th>\n",
       "      <th>VALENTIA_cloud_cover</th>\n",
       "      <th>VALENTIA_humidity</th>\n",
       "      <th>VALENTIA_pressure</th>\n",
       "      <th>VALENTIA_global_radiation</th>\n",
       "      <th>VALENTIA_precipitation</th>\n",
       "      <th>VALENTIA_snow_depth</th>\n",
       "      <th>VALENTIA_sunshine</th>\n",
       "      <th>VALENTIA_temp_mean</th>\n",
       "      <th>VALENTIA_temp_min</th>\n",
       "      <th>VALENTIA_temp_max</th>\n",
       "    </tr>\n",
       "  </thead>\n",
       "  <tbody>\n",
       "    <tr>\n",
       "      <th>0</th>\n",
       "      <td>7</td>\n",
       "      <td>2.1</td>\n",
       "      <td>0.85</td>\n",
       "      <td>1.018</td>\n",
       "      <td>0.32</td>\n",
       "      <td>0.09</td>\n",
       "      <td>0</td>\n",
       "      <td>0.7</td>\n",
       "      <td>6.5</td>\n",
       "      <td>0.8</td>\n",
       "      <td>...</td>\n",
       "      <td>5</td>\n",
       "      <td>0.88</td>\n",
       "      <td>1.0003</td>\n",
       "      <td>0.45</td>\n",
       "      <td>0.34</td>\n",
       "      <td>0</td>\n",
       "      <td>4.7</td>\n",
       "      <td>8.5</td>\n",
       "      <td>6.0</td>\n",
       "      <td>10.9</td>\n",
       "    </tr>\n",
       "    <tr>\n",
       "      <th>1</th>\n",
       "      <td>6</td>\n",
       "      <td>2.1</td>\n",
       "      <td>0.84</td>\n",
       "      <td>1.018</td>\n",
       "      <td>0.36</td>\n",
       "      <td>1.05</td>\n",
       "      <td>0</td>\n",
       "      <td>1.1</td>\n",
       "      <td>6.1</td>\n",
       "      <td>3.3</td>\n",
       "      <td>...</td>\n",
       "      <td>7</td>\n",
       "      <td>0.91</td>\n",
       "      <td>1.0007</td>\n",
       "      <td>0.25</td>\n",
       "      <td>0.84</td>\n",
       "      <td>0</td>\n",
       "      <td>0.7</td>\n",
       "      <td>8.9</td>\n",
       "      <td>5.6</td>\n",
       "      <td>12.1</td>\n",
       "    </tr>\n",
       "    <tr>\n",
       "      <th>2</th>\n",
       "      <td>8</td>\n",
       "      <td>2.1</td>\n",
       "      <td>0.90</td>\n",
       "      <td>1.018</td>\n",
       "      <td>0.18</td>\n",
       "      <td>0.30</td>\n",
       "      <td>0</td>\n",
       "      <td>0.0</td>\n",
       "      <td>8.5</td>\n",
       "      <td>5.1</td>\n",
       "      <td>...</td>\n",
       "      <td>7</td>\n",
       "      <td>0.91</td>\n",
       "      <td>1.0096</td>\n",
       "      <td>0.17</td>\n",
       "      <td>0.08</td>\n",
       "      <td>0</td>\n",
       "      <td>0.1</td>\n",
       "      <td>10.5</td>\n",
       "      <td>8.1</td>\n",
       "      <td>12.9</td>\n",
       "    </tr>\n",
       "    <tr>\n",
       "      <th>3</th>\n",
       "      <td>3</td>\n",
       "      <td>2.1</td>\n",
       "      <td>0.92</td>\n",
       "      <td>1.018</td>\n",
       "      <td>0.58</td>\n",
       "      <td>0.00</td>\n",
       "      <td>0</td>\n",
       "      <td>4.1</td>\n",
       "      <td>6.3</td>\n",
       "      <td>3.8</td>\n",
       "      <td>...</td>\n",
       "      <td>7</td>\n",
       "      <td>0.86</td>\n",
       "      <td>1.0184</td>\n",
       "      <td>0.13</td>\n",
       "      <td>0.98</td>\n",
       "      <td>0</td>\n",
       "      <td>0.0</td>\n",
       "      <td>7.4</td>\n",
       "      <td>7.3</td>\n",
       "      <td>10.6</td>\n",
       "    </tr>\n",
       "    <tr>\n",
       "      <th>4</th>\n",
       "      <td>6</td>\n",
       "      <td>2.1</td>\n",
       "      <td>0.95</td>\n",
       "      <td>1.018</td>\n",
       "      <td>0.65</td>\n",
       "      <td>0.14</td>\n",
       "      <td>0</td>\n",
       "      <td>5.4</td>\n",
       "      <td>3.0</td>\n",
       "      <td>-0.7</td>\n",
       "      <td>...</td>\n",
       "      <td>3</td>\n",
       "      <td>0.80</td>\n",
       "      <td>1.0328</td>\n",
       "      <td>0.46</td>\n",
       "      <td>0.00</td>\n",
       "      <td>0</td>\n",
       "      <td>5.7</td>\n",
       "      <td>5.7</td>\n",
       "      <td>3.0</td>\n",
       "      <td>8.4</td>\n",
       "    </tr>\n",
       "  </tbody>\n",
       "</table>\n",
       "<p>5 rows × 147 columns</p>\n",
       "</div>"
      ],
      "text/plain": [
       "   BASEL_cloud_cover  BASEL_wind_speed  BASEL_humidity  BASEL_pressure  \\\n",
       "0                  7               2.1            0.85           1.018   \n",
       "1                  6               2.1            0.84           1.018   \n",
       "2                  8               2.1            0.90           1.018   \n",
       "3                  3               2.1            0.92           1.018   \n",
       "4                  6               2.1            0.95           1.018   \n",
       "\n",
       "   BASEL_global_radiation  BASEL_precipitation  BASEL_snow_depth  \\\n",
       "0                    0.32                 0.09                 0   \n",
       "1                    0.36                 1.05                 0   \n",
       "2                    0.18                 0.30                 0   \n",
       "3                    0.58                 0.00                 0   \n",
       "4                    0.65                 0.14                 0   \n",
       "\n",
       "   BASEL_sunshine  BASEL_temp_mean  BASEL_temp_min  ...  VALENTIA_cloud_cover  \\\n",
       "0             0.7              6.5             0.8  ...                     5   \n",
       "1             1.1              6.1             3.3  ...                     7   \n",
       "2             0.0              8.5             5.1  ...                     7   \n",
       "3             4.1              6.3             3.8  ...                     7   \n",
       "4             5.4              3.0            -0.7  ...                     3   \n",
       "\n",
       "   VALENTIA_humidity  VALENTIA_pressure  VALENTIA_global_radiation  \\\n",
       "0               0.88             1.0003                       0.45   \n",
       "1               0.91             1.0007                       0.25   \n",
       "2               0.91             1.0096                       0.17   \n",
       "3               0.86             1.0184                       0.13   \n",
       "4               0.80             1.0328                       0.46   \n",
       "\n",
       "   VALENTIA_precipitation  VALENTIA_snow_depth  VALENTIA_sunshine  \\\n",
       "0                    0.34                    0                4.7   \n",
       "1                    0.84                    0                0.7   \n",
       "2                    0.08                    0                0.1   \n",
       "3                    0.98                    0                0.0   \n",
       "4                    0.00                    0                5.7   \n",
       "\n",
       "   VALENTIA_temp_mean  VALENTIA_temp_min  VALENTIA_temp_max  \n",
       "0                 8.5                6.0               10.9  \n",
       "1                 8.9                5.6               12.1  \n",
       "2                10.5                8.1               12.9  \n",
       "3                 7.4                7.3               10.6  \n",
       "4                 5.7                3.0                8.4  \n",
       "\n",
       "[5 rows x 147 columns]"
      ]
     },
     "execution_count": 20,
     "metadata": {},
     "output_type": "execute_result"
    }
   ],
   "source": [
    "climate.head()"
   ]
  },
  {
   "cell_type": "code",
   "execution_count": 22,
   "id": "9c6965af-993f-4554-8de3-233ef78e25e9",
   "metadata": {},
   "outputs": [
    {
     "data": {
      "text/html": [
       "<div>\n",
       "<style scoped>\n",
       "    .dataframe tbody tr th:only-of-type {\n",
       "        vertical-align: middle;\n",
       "    }\n",
       "\n",
       "    .dataframe tbody tr th {\n",
       "        vertical-align: top;\n",
       "    }\n",
       "\n",
       "    .dataframe thead th {\n",
       "        text-align: right;\n",
       "    }\n",
       "</style>\n",
       "<table border=\"1\" class=\"dataframe\">\n",
       "  <thead>\n",
       "    <tr style=\"text-align: right;\">\n",
       "      <th></th>\n",
       "      <th>BASEL_pleasant_weather</th>\n",
       "      <th>BELGRADE_pleasant_weather</th>\n",
       "      <th>BUDAPEST_pleasant_weather</th>\n",
       "      <th>DEBILT_pleasant_weather</th>\n",
       "      <th>DUSSELDORF_pleasant_weather</th>\n",
       "      <th>HEATHROW_pleasant_weather</th>\n",
       "      <th>KASSEL_pleasant_weather</th>\n",
       "      <th>LJUBLJANA_pleasant_weather</th>\n",
       "      <th>MAASTRICHT_pleasant_weather</th>\n",
       "      <th>MADRID_pleasant_weather</th>\n",
       "      <th>MUNCHENB_pleasant_weather</th>\n",
       "      <th>OSLO_pleasant_weather</th>\n",
       "      <th>SONNBLICK_pleasant_weather</th>\n",
       "      <th>STOCKHOLM_pleasant_weather</th>\n",
       "      <th>VALENTIA_pleasant_weather</th>\n",
       "    </tr>\n",
       "  </thead>\n",
       "  <tbody>\n",
       "    <tr>\n",
       "      <th>0</th>\n",
       "      <td>0</td>\n",
       "      <td>0</td>\n",
       "      <td>0</td>\n",
       "      <td>0</td>\n",
       "      <td>0</td>\n",
       "      <td>0</td>\n",
       "      <td>0</td>\n",
       "      <td>0</td>\n",
       "      <td>0</td>\n",
       "      <td>0</td>\n",
       "      <td>0</td>\n",
       "      <td>0</td>\n",
       "      <td>0</td>\n",
       "      <td>0</td>\n",
       "      <td>0</td>\n",
       "    </tr>\n",
       "    <tr>\n",
       "      <th>1</th>\n",
       "      <td>0</td>\n",
       "      <td>0</td>\n",
       "      <td>0</td>\n",
       "      <td>0</td>\n",
       "      <td>0</td>\n",
       "      <td>0</td>\n",
       "      <td>0</td>\n",
       "      <td>0</td>\n",
       "      <td>0</td>\n",
       "      <td>0</td>\n",
       "      <td>0</td>\n",
       "      <td>0</td>\n",
       "      <td>0</td>\n",
       "      <td>0</td>\n",
       "      <td>0</td>\n",
       "    </tr>\n",
       "    <tr>\n",
       "      <th>2</th>\n",
       "      <td>0</td>\n",
       "      <td>0</td>\n",
       "      <td>0</td>\n",
       "      <td>0</td>\n",
       "      <td>0</td>\n",
       "      <td>0</td>\n",
       "      <td>0</td>\n",
       "      <td>0</td>\n",
       "      <td>0</td>\n",
       "      <td>0</td>\n",
       "      <td>0</td>\n",
       "      <td>0</td>\n",
       "      <td>0</td>\n",
       "      <td>0</td>\n",
       "      <td>0</td>\n",
       "    </tr>\n",
       "    <tr>\n",
       "      <th>3</th>\n",
       "      <td>0</td>\n",
       "      <td>0</td>\n",
       "      <td>0</td>\n",
       "      <td>0</td>\n",
       "      <td>0</td>\n",
       "      <td>0</td>\n",
       "      <td>0</td>\n",
       "      <td>0</td>\n",
       "      <td>0</td>\n",
       "      <td>0</td>\n",
       "      <td>0</td>\n",
       "      <td>0</td>\n",
       "      <td>0</td>\n",
       "      <td>0</td>\n",
       "      <td>0</td>\n",
       "    </tr>\n",
       "    <tr>\n",
       "      <th>4</th>\n",
       "      <td>0</td>\n",
       "      <td>0</td>\n",
       "      <td>0</td>\n",
       "      <td>0</td>\n",
       "      <td>0</td>\n",
       "      <td>0</td>\n",
       "      <td>0</td>\n",
       "      <td>0</td>\n",
       "      <td>0</td>\n",
       "      <td>0</td>\n",
       "      <td>0</td>\n",
       "      <td>0</td>\n",
       "      <td>0</td>\n",
       "      <td>0</td>\n",
       "      <td>0</td>\n",
       "    </tr>\n",
       "  </tbody>\n",
       "</table>\n",
       "</div>"
      ],
      "text/plain": [
       "   BASEL_pleasant_weather  BELGRADE_pleasant_weather  \\\n",
       "0                       0                          0   \n",
       "1                       0                          0   \n",
       "2                       0                          0   \n",
       "3                       0                          0   \n",
       "4                       0                          0   \n",
       "\n",
       "   BUDAPEST_pleasant_weather  DEBILT_pleasant_weather  \\\n",
       "0                          0                        0   \n",
       "1                          0                        0   \n",
       "2                          0                        0   \n",
       "3                          0                        0   \n",
       "4                          0                        0   \n",
       "\n",
       "   DUSSELDORF_pleasant_weather  HEATHROW_pleasant_weather  \\\n",
       "0                            0                          0   \n",
       "1                            0                          0   \n",
       "2                            0                          0   \n",
       "3                            0                          0   \n",
       "4                            0                          0   \n",
       "\n",
       "   KASSEL_pleasant_weather  LJUBLJANA_pleasant_weather  \\\n",
       "0                        0                           0   \n",
       "1                        0                           0   \n",
       "2                        0                           0   \n",
       "3                        0                           0   \n",
       "4                        0                           0   \n",
       "\n",
       "   MAASTRICHT_pleasant_weather  MADRID_pleasant_weather  \\\n",
       "0                            0                        0   \n",
       "1                            0                        0   \n",
       "2                            0                        0   \n",
       "3                            0                        0   \n",
       "4                            0                        0   \n",
       "\n",
       "   MUNCHENB_pleasant_weather  OSLO_pleasant_weather  \\\n",
       "0                          0                      0   \n",
       "1                          0                      0   \n",
       "2                          0                      0   \n",
       "3                          0                      0   \n",
       "4                          0                      0   \n",
       "\n",
       "   SONNBLICK_pleasant_weather  STOCKHOLM_pleasant_weather  \\\n",
       "0                           0                           0   \n",
       "1                           0                           0   \n",
       "2                           0                           0   \n",
       "3                           0                           0   \n",
       "4                           0                           0   \n",
       "\n",
       "   VALENTIA_pleasant_weather  \n",
       "0                          0  \n",
       "1                          0  \n",
       "2                          0  \n",
       "3                          0  \n",
       "4                          0  "
      ]
     },
     "execution_count": 22,
     "metadata": {},
     "output_type": "execute_result"
    }
   ],
   "source": [
    "# Drop date column from df_pleasant\n",
    "pleasant = pleasant.drop(columns=['DATE'], axis=1)\n",
    "pleasant.head()"
   ]
  },
  {
   "cell_type": "code",
   "execution_count": 24,
   "id": "5c44e310-8aa9-41b0-b859-e6e14f8037ea",
   "metadata": {},
   "outputs": [
    {
     "name": "stdout",
     "output_type": "stream",
     "text": [
      "Location: BELGRADE\n",
      "  - cloud_cover: 1\n",
      "  - humidity: 1\n",
      "  - pressure: 1\n",
      "  - global_radiation: 1\n",
      "  - precipitation: 1\n",
      "  - sunshine: 1\n",
      "  - temp_mean: 1\n",
      "  - temp_min: 1\n",
      "  - temp_max: 1\n",
      "\n",
      "Location: BASEL\n",
      "  - cloud_cover: 1\n",
      "  - wind_speed: 1\n",
      "  - humidity: 1\n",
      "  - pressure: 1\n",
      "  - global_radiation: 1\n",
      "  - precipitation: 1\n",
      "  - snow_depth: 1\n",
      "  - sunshine: 1\n",
      "  - temp_mean: 1\n",
      "  - temp_min: 1\n",
      "  - temp_max: 1\n",
      "\n",
      "Location: KASSEL\n",
      "  - wind_speed: 1\n",
      "  - humidity: 1\n",
      "  - pressure: 1\n",
      "  - global_radiation: 1\n",
      "  - precipitation: 1\n",
      "  - sunshine: 1\n",
      "  - temp_mean: 1\n",
      "  - temp_min: 1\n",
      "  - temp_max: 1\n",
      "\n",
      "Location: MAASTRICHT\n",
      "  - cloud_cover: 1\n",
      "  - wind_speed: 1\n",
      "  - humidity: 1\n",
      "  - pressure: 1\n",
      "  - global_radiation: 1\n",
      "  - precipitation: 1\n",
      "  - sunshine: 1\n",
      "  - temp_mean: 1\n",
      "  - temp_min: 1\n",
      "  - temp_max: 1\n",
      "\n",
      "Location: MUNCHENB\n",
      "  - cloud_cover: 1\n",
      "  - humidity: 1\n",
      "  - global_radiation: 1\n",
      "  - precipitation: 1\n",
      "  - snow_depth: 1\n",
      "  - sunshine: 1\n",
      "  - temp_mean: 1\n",
      "  - temp_min: 1\n",
      "  - temp_max: 1\n",
      "\n",
      "Location: MADRID\n",
      "  - cloud_cover: 1\n",
      "  - wind_speed: 1\n",
      "  - humidity: 1\n",
      "  - pressure: 1\n",
      "  - global_radiation: 1\n",
      "  - precipitation: 1\n",
      "  - sunshine: 1\n",
      "  - temp_mean: 1\n",
      "  - temp_min: 1\n",
      "  - temp_max: 1\n",
      "\n",
      "Location: STOCKHOLM\n",
      "  - cloud_cover: 1\n",
      "  - pressure: 1\n",
      "  - global_radiation: 1\n",
      "  - precipitation: 1\n",
      "  - sunshine: 1\n",
      "  - temp_mean: 1\n",
      "  - temp_min: 1\n",
      "  - temp_max: 1\n",
      "\n",
      "Location: HEATHROW\n",
      "  - cloud_cover: 1\n",
      "  - humidity: 1\n",
      "  - pressure: 1\n",
      "  - global_radiation: 1\n",
      "  - precipitation: 1\n",
      "  - snow_depth: 1\n",
      "  - sunshine: 1\n",
      "  - temp_mean: 1\n",
      "  - temp_min: 1\n",
      "  - temp_max: 1\n",
      "\n",
      "Location: LJUBLJANA\n",
      "  - cloud_cover: 1\n",
      "  - wind_speed: 1\n",
      "  - humidity: 1\n",
      "  - pressure: 1\n",
      "  - global_radiation: 1\n",
      "  - precipitation: 1\n",
      "  - sunshine: 1\n",
      "  - temp_mean: 1\n",
      "  - temp_min: 1\n",
      "  - temp_max: 1\n",
      "\n",
      "Location: OSLO\n",
      "  - cloud_cover: 1\n",
      "  - wind_speed: 1\n",
      "  - humidity: 1\n",
      "  - pressure: 1\n",
      "  - global_radiation: 1\n",
      "  - precipitation: 1\n",
      "  - snow_depth: 1\n",
      "  - sunshine: 1\n",
      "  - temp_mean: 1\n",
      "  - temp_min: 1\n",
      "  - temp_max: 1\n",
      "\n",
      "Location: BUDAPEST\n",
      "  - cloud_cover: 1\n",
      "  - humidity: 1\n",
      "  - pressure: 1\n",
      "  - global_radiation: 1\n",
      "  - precipitation: 1\n",
      "  - sunshine: 1\n",
      "  - temp_mean: 1\n",
      "  - temp_min: 1\n",
      "  - temp_max: 1\n",
      "\n",
      "Location: DEBILT\n",
      "  - cloud_cover: 1\n",
      "  - wind_speed: 1\n",
      "  - humidity: 1\n",
      "  - pressure: 1\n",
      "  - global_radiation: 1\n",
      "  - precipitation: 1\n",
      "  - sunshine: 1\n",
      "  - temp_mean: 1\n",
      "  - temp_min: 1\n",
      "  - temp_max: 1\n",
      "\n",
      "Location: SONNBLICK\n",
      "  - cloud_cover: 1\n",
      "  - wind_speed: 1\n",
      "  - humidity: 1\n",
      "  - pressure: 1\n",
      "  - global_radiation: 1\n",
      "  - precipitation: 1\n",
      "  - sunshine: 1\n",
      "  - temp_mean: 1\n",
      "  - temp_min: 1\n",
      "  - temp_max: 1\n",
      "\n",
      "Location: DUSSELDORF\n",
      "  - cloud_cover: 1\n",
      "  - wind_speed: 1\n",
      "  - humidity: 1\n",
      "  - pressure: 1\n",
      "  - global_radiation: 1\n",
      "  - precipitation: 1\n",
      "  - snow_depth: 1\n",
      "  - sunshine: 1\n",
      "  - temp_mean: 1\n",
      "  - temp_min: 1\n",
      "  - temp_max: 1\n",
      "\n",
      "Location: VALENTIA\n",
      "  - cloud_cover: 1\n",
      "  - humidity: 1\n",
      "  - pressure: 1\n",
      "  - global_radiation: 1\n",
      "  - precipitation: 1\n",
      "  - snow_depth: 1\n",
      "  - sunshine: 1\n",
      "  - temp_mean: 1\n",
      "  - temp_min: 1\n",
      "  - temp_max: 1\n",
      "\n"
     ]
    }
   ],
   "source": [
    "# find out all the different measurement types for each location\n",
    "\n",
    "# Extract location names \n",
    "locations = set([col.split('_')[0] for col in climate.columns])\n",
    "\n",
    "# Create a dictionary to store measurement counts for each location\n",
    "measurement_counts = {location: {} for location in locations}\n",
    "\n",
    "# Count occurrences of each measurement type for each location\n",
    "for col in climate.columns:\n",
    "    parts = col.split('_') \n",
    "    location = parts[0] \n",
    "    measurement = '_'.join(parts[1:])  # Join remaining parts if there are more than two\n",
    "\n",
    "    if measurement not in measurement_counts[location]:\n",
    "        measurement_counts[location][measurement] = 1\n",
    "    else:\n",
    "        measurement_counts[location][measurement] += 1\n",
    "\n",
    "# Print the measurement counts for each location\n",
    "for location, measurements in measurement_counts.items():\n",
    "    print(f\"Location: {location}\")\n",
    "    for measurement, count in measurements.items():\n",
    "        print(f\"  - {measurement}: {count}\")\n",
    "    print()"
   ]
  },
  {
   "cell_type": "code",
   "execution_count": 30,
   "id": "d16efbce-2c12-4ede-888d-be1dc3dd6f38",
   "metadata": {},
   "outputs": [],
   "source": [
    "## Missing\n",
    "## Maastricht: snow_depth\n",
    "## Madrid: snow_depth\n",
    "## Heathrow: wind_speed measurements\n",
    "## Kassel: cloud_cover, snow_depth\n",
    "## Belgrade: wind_speed, snow_depth\n",
    "## Valentia: wind_speed\n",
    "## Budapest: wind_speed, snow_depth\n",
    "## Ljubljana: snow_depth\n",
    "## Sonnblick: snow_depth\n",
    "## Stockholm: wind_speed, humidity, snow_depth\n",
    "## Debilt: snow_depth\n",
    "## Munchenb wind_speed, pressure"
   ]
  },
  {
   "cell_type": "code",
   "execution_count": 32,
   "id": "a32b7fa2-2ac2-43ea-806b-0797ea1f86a6",
   "metadata": {},
   "outputs": [],
   "source": [
    "# Drop columns for wind_speed and snow_depth\n",
    "cols_to_drop = [col for col in climate.columns if col.endswith(('wind_speed', 'snow_depth'))]\n",
    "climate = climate.drop(columns=cols_to_drop)"
   ]
  },
  {
   "cell_type": "code",
   "execution_count": 34,
   "id": "976303e6-1b04-4478-bf5c-5543790d9db7",
   "metadata": {},
   "outputs": [
    {
     "data": {
      "text/html": [
       "<div>\n",
       "<style scoped>\n",
       "    .dataframe tbody tr th:only-of-type {\n",
       "        vertical-align: middle;\n",
       "    }\n",
       "\n",
       "    .dataframe tbody tr th {\n",
       "        vertical-align: top;\n",
       "    }\n",
       "\n",
       "    .dataframe thead th {\n",
       "        text-align: right;\n",
       "    }\n",
       "</style>\n",
       "<table border=\"1\" class=\"dataframe\">\n",
       "  <thead>\n",
       "    <tr style=\"text-align: right;\">\n",
       "      <th></th>\n",
       "      <th>BASEL_cloud_cover</th>\n",
       "      <th>BASEL_humidity</th>\n",
       "      <th>BASEL_pressure</th>\n",
       "      <th>BASEL_global_radiation</th>\n",
       "      <th>BASEL_precipitation</th>\n",
       "      <th>BASEL_sunshine</th>\n",
       "      <th>BASEL_temp_mean</th>\n",
       "      <th>BASEL_temp_min</th>\n",
       "      <th>BASEL_temp_max</th>\n",
       "      <th>BELGRADE_cloud_cover</th>\n",
       "      <th>...</th>\n",
       "      <th>STOCKHOLM_temp_max</th>\n",
       "      <th>VALENTIA_cloud_cover</th>\n",
       "      <th>VALENTIA_humidity</th>\n",
       "      <th>VALENTIA_pressure</th>\n",
       "      <th>VALENTIA_global_radiation</th>\n",
       "      <th>VALENTIA_precipitation</th>\n",
       "      <th>VALENTIA_sunshine</th>\n",
       "      <th>VALENTIA_temp_mean</th>\n",
       "      <th>VALENTIA_temp_min</th>\n",
       "      <th>VALENTIA_temp_max</th>\n",
       "    </tr>\n",
       "  </thead>\n",
       "  <tbody>\n",
       "    <tr>\n",
       "      <th>0</th>\n",
       "      <td>7</td>\n",
       "      <td>0.85</td>\n",
       "      <td>1.018</td>\n",
       "      <td>0.32</td>\n",
       "      <td>0.09</td>\n",
       "      <td>0.7</td>\n",
       "      <td>6.5</td>\n",
       "      <td>0.8</td>\n",
       "      <td>10.9</td>\n",
       "      <td>1</td>\n",
       "      <td>...</td>\n",
       "      <td>4.9</td>\n",
       "      <td>5</td>\n",
       "      <td>0.88</td>\n",
       "      <td>1.0003</td>\n",
       "      <td>0.45</td>\n",
       "      <td>0.34</td>\n",
       "      <td>4.7</td>\n",
       "      <td>8.5</td>\n",
       "      <td>6.0</td>\n",
       "      <td>10.9</td>\n",
       "    </tr>\n",
       "    <tr>\n",
       "      <th>1</th>\n",
       "      <td>6</td>\n",
       "      <td>0.84</td>\n",
       "      <td>1.018</td>\n",
       "      <td>0.36</td>\n",
       "      <td>1.05</td>\n",
       "      <td>1.1</td>\n",
       "      <td>6.1</td>\n",
       "      <td>3.3</td>\n",
       "      <td>10.1</td>\n",
       "      <td>6</td>\n",
       "      <td>...</td>\n",
       "      <td>5.0</td>\n",
       "      <td>7</td>\n",
       "      <td>0.91</td>\n",
       "      <td>1.0007</td>\n",
       "      <td>0.25</td>\n",
       "      <td>0.84</td>\n",
       "      <td>0.7</td>\n",
       "      <td>8.9</td>\n",
       "      <td>5.6</td>\n",
       "      <td>12.1</td>\n",
       "    </tr>\n",
       "    <tr>\n",
       "      <th>2</th>\n",
       "      <td>8</td>\n",
       "      <td>0.90</td>\n",
       "      <td>1.018</td>\n",
       "      <td>0.18</td>\n",
       "      <td>0.30</td>\n",
       "      <td>0.0</td>\n",
       "      <td>8.5</td>\n",
       "      <td>5.1</td>\n",
       "      <td>9.9</td>\n",
       "      <td>6</td>\n",
       "      <td>...</td>\n",
       "      <td>4.1</td>\n",
       "      <td>7</td>\n",
       "      <td>0.91</td>\n",
       "      <td>1.0096</td>\n",
       "      <td>0.17</td>\n",
       "      <td>0.08</td>\n",
       "      <td>0.1</td>\n",
       "      <td>10.5</td>\n",
       "      <td>8.1</td>\n",
       "      <td>12.9</td>\n",
       "    </tr>\n",
       "    <tr>\n",
       "      <th>3</th>\n",
       "      <td>3</td>\n",
       "      <td>0.92</td>\n",
       "      <td>1.018</td>\n",
       "      <td>0.58</td>\n",
       "      <td>0.00</td>\n",
       "      <td>4.1</td>\n",
       "      <td>6.3</td>\n",
       "      <td>3.8</td>\n",
       "      <td>10.6</td>\n",
       "      <td>8</td>\n",
       "      <td>...</td>\n",
       "      <td>2.3</td>\n",
       "      <td>7</td>\n",
       "      <td>0.86</td>\n",
       "      <td>1.0184</td>\n",
       "      <td>0.13</td>\n",
       "      <td>0.98</td>\n",
       "      <td>0.0</td>\n",
       "      <td>7.4</td>\n",
       "      <td>7.3</td>\n",
       "      <td>10.6</td>\n",
       "    </tr>\n",
       "    <tr>\n",
       "      <th>4</th>\n",
       "      <td>6</td>\n",
       "      <td>0.95</td>\n",
       "      <td>1.018</td>\n",
       "      <td>0.65</td>\n",
       "      <td>0.14</td>\n",
       "      <td>5.4</td>\n",
       "      <td>3.0</td>\n",
       "      <td>-0.7</td>\n",
       "      <td>6.0</td>\n",
       "      <td>8</td>\n",
       "      <td>...</td>\n",
       "      <td>4.3</td>\n",
       "      <td>3</td>\n",
       "      <td>0.80</td>\n",
       "      <td>1.0328</td>\n",
       "      <td>0.46</td>\n",
       "      <td>0.00</td>\n",
       "      <td>5.7</td>\n",
       "      <td>5.7</td>\n",
       "      <td>3.0</td>\n",
       "      <td>8.4</td>\n",
       "    </tr>\n",
       "  </tbody>\n",
       "</table>\n",
       "<p>5 rows × 132 columns</p>\n",
       "</div>"
      ],
      "text/plain": [
       "   BASEL_cloud_cover  BASEL_humidity  BASEL_pressure  BASEL_global_radiation  \\\n",
       "0                  7            0.85           1.018                    0.32   \n",
       "1                  6            0.84           1.018                    0.36   \n",
       "2                  8            0.90           1.018                    0.18   \n",
       "3                  3            0.92           1.018                    0.58   \n",
       "4                  6            0.95           1.018                    0.65   \n",
       "\n",
       "   BASEL_precipitation  BASEL_sunshine  BASEL_temp_mean  BASEL_temp_min  \\\n",
       "0                 0.09             0.7              6.5             0.8   \n",
       "1                 1.05             1.1              6.1             3.3   \n",
       "2                 0.30             0.0              8.5             5.1   \n",
       "3                 0.00             4.1              6.3             3.8   \n",
       "4                 0.14             5.4              3.0            -0.7   \n",
       "\n",
       "   BASEL_temp_max  BELGRADE_cloud_cover  ...  STOCKHOLM_temp_max  \\\n",
       "0            10.9                     1  ...                 4.9   \n",
       "1            10.1                     6  ...                 5.0   \n",
       "2             9.9                     6  ...                 4.1   \n",
       "3            10.6                     8  ...                 2.3   \n",
       "4             6.0                     8  ...                 4.3   \n",
       "\n",
       "   VALENTIA_cloud_cover  VALENTIA_humidity  VALENTIA_pressure  \\\n",
       "0                     5               0.88             1.0003   \n",
       "1                     7               0.91             1.0007   \n",
       "2                     7               0.91             1.0096   \n",
       "3                     7               0.86             1.0184   \n",
       "4                     3               0.80             1.0328   \n",
       "\n",
       "   VALENTIA_global_radiation  VALENTIA_precipitation  VALENTIA_sunshine  \\\n",
       "0                       0.45                    0.34                4.7   \n",
       "1                       0.25                    0.84                0.7   \n",
       "2                       0.17                    0.08                0.1   \n",
       "3                       0.13                    0.98                0.0   \n",
       "4                       0.46                    0.00                5.7   \n",
       "\n",
       "   VALENTIA_temp_mean  VALENTIA_temp_min  VALENTIA_temp_max  \n",
       "0                 8.5                6.0               10.9  \n",
       "1                 8.9                5.6               12.1  \n",
       "2                10.5                8.1               12.9  \n",
       "3                 7.4                7.3               10.6  \n",
       "4                 5.7                3.0                8.4  \n",
       "\n",
       "[5 rows x 132 columns]"
      ]
     },
     "execution_count": 34,
     "metadata": {},
     "output_type": "execute_result"
    }
   ],
   "source": [
    "climate.head()"
   ]
  },
  {
   "cell_type": "code",
   "execution_count": 38,
   "id": "afa2a4f9-3697-4f69-ba60-c553a0b2338e",
   "metadata": {},
   "outputs": [
    {
     "name": "stdout",
     "output_type": "stream",
     "text": [
      "       KASSEL_cloud_cover  KASSEL_humidity  KASSEL_pressure  \\\n",
      "0                     8.0             0.82           1.0094   \n",
      "1                     6.0             0.86           1.0086   \n",
      "2                     8.0             0.91           1.0129   \n",
      "3                     6.0             0.87           1.0290   \n",
      "4                     7.0             0.86           1.0262   \n",
      "...                   ...              ...              ...   \n",
      "22945                 4.0             0.77           1.0161   \n",
      "22946                 3.0             0.77           1.0161   \n",
      "22947                 3.0             0.77           1.0161   \n",
      "22948                 3.0             0.77           1.0161   \n",
      "22949                 3.0             0.77           1.0161   \n",
      "\n",
      "       KASSEL_global_radiation  KASSEL_precipitation  KASSEL_sunshine  \\\n",
      "0                         0.28                  0.48              1.6   \n",
      "1                         0.12                  0.27              0.0   \n",
      "2                         0.12                  0.60              0.0   \n",
      "3                         0.12                  0.00              0.0   \n",
      "4                         0.13                  0.71              0.0   \n",
      "...                        ...                   ...              ...   \n",
      "22945                     1.14                  0.19              4.0   \n",
      "22946                     1.14                  0.19              4.0   \n",
      "22947                     1.14                  0.19              4.0   \n",
      "22948                     1.14                  0.19              4.0   \n",
      "22949                     1.14                  0.19              4.0   \n",
      "\n",
      "       KASSEL_temp_mean  KASSEL_temp_min  KASSEL_temp_max  \\\n",
      "0                   7.9              3.9              9.4   \n",
      "1                   7.7              6.8              9.1   \n",
      "2                   6.5              6.0              8.0   \n",
      "3                   5.8              5.2              6.5   \n",
      "4                   5.4              3.7              6.0   \n",
      "...                 ...              ...              ...   \n",
      "22945               9.1              5.4             13.1   \n",
      "22946               9.1              5.4             13.1   \n",
      "22947               9.1              5.4             13.1   \n",
      "22948               9.1              5.4             13.1   \n",
      "22949               9.1              5.4             13.1   \n",
      "\n",
      "       MUNCHENB_cloud_cover  ...  MUNCHENB_temp_max  STOCKHOLM_cloud_cover  \\\n",
      "0                         5  ...               10.4                      5   \n",
      "1                         6  ...               10.2                      5   \n",
      "2                         6  ...                8.0                      5   \n",
      "3                         6  ...                5.4                      5   \n",
      "4                         5  ...                6.0                      5   \n",
      "...                     ...  ...                ...                    ...   \n",
      "22945                     2  ...               22.2                      5   \n",
      "22946                     6  ...               26.1                      5   \n",
      "22947                     7  ...               26.2                      5   \n",
      "22948                     6  ...               23.5                      5   \n",
      "22949                     5  ...               19.6                      5   \n",
      "\n",
      "       STOCKHOLM_humidity  STOCKHOLM_pressure  STOCKHOLM_global_radiation  \\\n",
      "0                    0.98              1.0114                        0.05   \n",
      "1                    0.62              1.0114                        0.05   \n",
      "2                    0.69              1.0114                        0.05   \n",
      "3                    0.98              1.0114                        0.05   \n",
      "4                    0.96              1.0114                        0.05   \n",
      "...                   ...                 ...                         ...   \n",
      "22945                0.98              1.0161                        1.11   \n",
      "22946                1.00              1.0122                        1.11   \n",
      "22947                0.85              1.0059                        1.11   \n",
      "22948                0.94              1.0160                        1.11   \n",
      "22949                0.97              1.0164                        1.11   \n",
      "\n",
      "       STOCKHOLM_precipitation  STOCKHOLM_sunshine  STOCKHOLM_temp_mean  \\\n",
      "0                         0.32                 0.0                  4.2   \n",
      "1                         0.06                 0.0                  4.0   \n",
      "2                         0.02                 0.0                  2.4   \n",
      "3                         0.00                 0.0                  1.2   \n",
      "4                         1.32                 0.0                  3.3   \n",
      "...                        ...                 ...                  ...   \n",
      "22945                     0.14                 3.2                 11.5   \n",
      "22946                     0.14                 0.8                 12.5   \n",
      "22947                     0.14                 6.9                 13.1   \n",
      "22948                     0.14                 8.4                  7.5   \n",
      "22949                     0.14                 0.4                  9.7   \n",
      "\n",
      "       STOCKHOLM_temp_min  STOCKHOLM_temp_max  \n",
      "0                     2.2                 4.9  \n",
      "1                     3.0                 5.0  \n",
      "2                     1.3                 4.1  \n",
      "3                     0.4                 2.3  \n",
      "4                     0.8                 4.3  \n",
      "...                   ...                 ...  \n",
      "22945                 8.2                14.2  \n",
      "22946                11.0                14.3  \n",
      "22947                12.1                14.4  \n",
      "22948                 5.1                12.4  \n",
      "22949                 5.0                12.6  \n",
      "\n",
      "[22950 rows x 27 columns]\n"
     ]
    },
    {
     "name": "stderr",
     "output_type": "stream",
     "text": [
      "C:\\Users\\Jack Bartman\\AppData\\Local\\Temp\\ipykernel_14404\\1886491939.py:48: FutureWarning: A value is trying to be set on a copy of a DataFrame or Series through chained assignment using an inplace method.\n",
      "The behavior will change in pandas 3.0. This inplace method will never work because the intermediate object on which we are setting values always behaves as a copy.\n",
      "\n",
      "For example, when doing 'df[col].method(value, inplace=True)', try using 'df.method({col: value}, inplace=True)' or df[col] = df[col].method(value) instead, to perform the operation inplace on the original object.\n",
      "\n",
      "\n",
      "  climate[target_col].fillna(climate[source_col], inplace=True)\n",
      "C:\\Users\\Jack Bartman\\AppData\\Local\\Temp\\ipykernel_14404\\1886491939.py:48: FutureWarning: A value is trying to be set on a copy of a DataFrame or Series through chained assignment using an inplace method.\n",
      "The behavior will change in pandas 3.0. This inplace method will never work because the intermediate object on which we are setting values always behaves as a copy.\n",
      "\n",
      "For example, when doing 'df[col].method(value, inplace=True)', try using 'df.method({col: value}, inplace=True)' or df[col] = df[col].method(value) instead, to perform the operation inplace on the original object.\n",
      "\n",
      "\n",
      "  climate[target_col].fillna(climate[source_col], inplace=True)\n",
      "C:\\Users\\Jack Bartman\\AppData\\Local\\Temp\\ipykernel_14404\\1886491939.py:48: FutureWarning: A value is trying to be set on a copy of a DataFrame or Series through chained assignment using an inplace method.\n",
      "The behavior will change in pandas 3.0. This inplace method will never work because the intermediate object on which we are setting values always behaves as a copy.\n",
      "\n",
      "For example, when doing 'df[col].method(value, inplace=True)', try using 'df.method({col: value}, inplace=True)' or df[col] = df[col].method(value) instead, to perform the operation inplace on the original object.\n",
      "\n",
      "\n",
      "  climate[target_col].fillna(climate[source_col], inplace=True)\n"
     ]
    }
   ],
   "source": [
    "# There are missing measurements for Kassel's cloud cover, Stockholm's humidity, and Munchenb's pressure\n",
    "# We know that Ljubljana is near Kassel, Sonnblick is near Munchenb, and Olso is near enough to Stockholm\n",
    "\n",
    "# Define relationships between locations\n",
    "location_pairs = {\n",
    "    'KASSEL': 'LJUBLJANA',\n",
    "    'STOCKHOLM': 'OSLO',\n",
    "    'MUNCHENB': 'SONNBLICK'\n",
    "}\n",
    "\n",
    "# Define the desired order of measurements\n",
    "measurement_order = ['cloud_cover', 'humidity', 'pressure', 'global_radiation', \n",
    "                     'precipitation', 'sunshine', 'temp_mean', 'temp_min', 'temp_max']\n",
    "\n",
    "# Function to fill missing values and insert in correct position\n",
    "def fill_missing_values(climate, location, measurement, neighbor):\n",
    "    \"\"\"\n",
    "    Fills missing values for a given location and measurement using data from a neighbor location.\n",
    "    Inserts the new column in the correct position based on the measurement order.\n",
    "\n",
    "    Args:\n",
    "        climate: The DataFrame containing the weather data.\n",
    "        location: The location with missing values.\n",
    "        measurement: The measurement with missing values.\n",
    "        neighbor: The neighboring location to use for filling.\n",
    "\n",
    "    Returns:\n",
    "        The updated DataFrame with filled missing values and columns in the correct order.\n",
    "    \"\"\"\n",
    "    source_col = f'{neighbor}_{measurement}'\n",
    "    target_col = f'{location}_{measurement}'\n",
    "\n",
    "    # Determine the insertion index \n",
    "    if measurement == measurement_order[0]:  # If it's the first measurement for the location\n",
    "        # Find the index of the first column for the location (or 0 if no location columns exist)\n",
    "        location_columns = [col for col in climate.columns if col.startswith(location)]\n",
    "        if location_columns:\n",
    "            insert_index = climate.columns.get_loc(location_columns[0]) \n",
    "        else:\n",
    "            insert_index = 0\n",
    "    else:\n",
    "        insert_index = climate.columns.get_loc(f'{location}_{measurement_order[measurement_order.index(measurement) - 1]}') + 1 \n",
    "\n",
    "    # Create the new column with missing values and insert it at the correct position\n",
    "    climate.insert(insert_index, target_col, np.nan) \n",
    "\n",
    "    # Fill missing values in the new column\n",
    "    climate[target_col].fillna(climate[source_col], inplace=True) \n",
    "\n",
    "    return climate\n",
    "\n",
    "# Fill missing values for each location and measurement\n",
    "for location, neighbor in location_pairs.items():\n",
    "    for measurement in measurement_order:\n",
    "        if f'{location}_{measurement}' not in climate.columns:  # Check if column already exists\n",
    "            climate = fill_missing_values(climate, location, measurement, neighbor)\n",
    "\n",
    "# Checking new columns for existance and location\n",
    "selected_columns = [col for col in climate.columns if col.startswith(('KASSEL', 'STOCKHOLM', 'MUNCHENB'))]\n",
    "print(climate[selected_columns])"
   ]
  },
  {
   "cell_type": "code",
   "execution_count": 40,
   "id": "0e0a5abc-806c-4f29-ad80-8c5c5511fa46",
   "metadata": {},
   "outputs": [
    {
     "name": "stdout",
     "output_type": "stream",
     "text": [
      "       MUNCHENB_cloud_cover  MUNCHENB_humidity  MUNCHENB_pressure  \\\n",
      "0                         5               0.67             1.0304   \n",
      "1                         6               0.72             1.0292   \n",
      "2                         6               0.91             1.0320   \n",
      "3                         6               0.90             1.0443   \n",
      "4                         5               0.85             1.0430   \n",
      "...                     ...                ...                ...   \n",
      "22945                     2               0.76             1.0263   \n",
      "22946                     6               0.70             1.0263   \n",
      "22947                     7               0.64             1.0263   \n",
      "22948                     6               0.75             1.0263   \n",
      "22949                     5               0.83             1.0263   \n",
      "\n",
      "       MUNCHENB_global_radiation  MUNCHENB_precipitation  MUNCHENB_sunshine  \\\n",
      "0                           0.20                    0.10                0.0   \n",
      "1                           0.61                    0.30                5.1   \n",
      "2                           0.20                    0.30                0.0   \n",
      "3                           0.20                    0.01                0.0   \n",
      "4                           0.65                    0.96                5.6   \n",
      "...                          ...                     ...                ...   \n",
      "22945                       1.37                    0.26                9.7   \n",
      "22946                       1.37                    0.26                7.7   \n",
      "22947                       1.37                    0.26                6.8   \n",
      "22948                       1.37                    0.26                8.3   \n",
      "22949                       1.37                    0.26                6.8   \n",
      "\n",
      "       MUNCHENB_temp_mean  MUNCHENB_temp_min  MUNCHENB_temp_max  \n",
      "0                     6.9                1.1               10.4  \n",
      "1                     6.2                4.2               10.2  \n",
      "2                     5.8                4.0                8.0  \n",
      "3                     3.9                3.2                5.4  \n",
      "4                     1.8               -3.0                6.0  \n",
      "...                   ...                ...                ...  \n",
      "22945                14.3                8.3               22.2  \n",
      "22946                16.1                8.9               26.1  \n",
      "22947                17.4               11.2               26.2  \n",
      "22948                14.5                9.2               23.5  \n",
      "22949                12.9                7.9               19.6  \n",
      "\n",
      "[22950 rows x 9 columns]\n"
     ]
    }
   ],
   "source": [
    "# Checking new columns for existance and location\n",
    "selected_columns = [col for col in climate.columns if col.startswith(('MUNCHENB'))]\n",
    "print(climate[selected_columns])"
   ]
  },
  {
   "cell_type": "code",
   "execution_count": 42,
   "id": "719d4fa7-43b6-4274-9f05-f285eb79654f",
   "metadata": {},
   "outputs": [
    {
     "data": {
      "text/plain": [
       "(22950, 135)"
      ]
     },
     "execution_count": 42,
     "metadata": {},
     "output_type": "execute_result"
    }
   ],
   "source": [
    "climate.shape"
   ]
  },
  {
   "cell_type": "code",
   "execution_count": 48,
   "id": "30442931-225a-4050-ac06-2005c0140ddc",
   "metadata": {},
   "outputs": [
    {
     "data": {
      "text/plain": [
       "(22950, 15)"
      ]
     },
     "execution_count": 48,
     "metadata": {},
     "output_type": "execute_result"
    }
   ],
   "source": [
    "pleasant.shape"
   ]
  },
  {
   "cell_type": "code",
   "execution_count": 52,
   "id": "63051767-fe1b-44ac-b94d-ed0edf0aa66d",
   "metadata": {},
   "outputs": [],
   "source": [
    "# Export cleaned weather data\n",
    "climate.to_csv(os.path.join(path, '02 Data', 'Prepared Data', 'weather_clean.csv'), index=False)"
   ]
  },
  {
   "cell_type": "markdown",
   "id": "8022cccb-5987-424e-bfb8-d74c3aa32555",
   "metadata": {},
   "source": [
    "## Reshape Data"
   ]
  },
  {
   "cell_type": "code",
   "execution_count": 55,
   "id": "65ae9571-1254-4fdb-9d7d-becf5cbe98bd",
   "metadata": {},
   "outputs": [],
   "source": [
    "# Rename df's\n",
    "X = climate\n",
    "y = pleasant"
   ]
  },
  {
   "cell_type": "code",
   "execution_count": 57,
   "id": "92dd8dd2-c21d-4fb1-bc5c-1621b12c82b1",
   "metadata": {},
   "outputs": [],
   "source": [
    "# Convert df's to arrays\n",
    "X = np.array(X)\n",
    "y = np.array(y)"
   ]
  },
  {
   "cell_type": "code",
   "execution_count": 59,
   "id": "b60dfb51-3c2d-4343-b9c9-7881840b80b3",
   "metadata": {},
   "outputs": [
    {
     "data": {
      "text/plain": [
       "array([[ 7.    ,  0.85  ,  1.018 , ...,  8.5   ,  6.    , 10.9   ],\n",
       "       [ 6.    ,  0.84  ,  1.018 , ...,  8.9   ,  5.6   , 12.1   ],\n",
       "       [ 8.    ,  0.9   ,  1.018 , ..., 10.5   ,  8.1   , 12.9   ],\n",
       "       ...,\n",
       "       [ 4.    ,  0.76  ,  1.0227, ..., 10.7   ,  7.9   , 13.5   ],\n",
       "       [ 5.    ,  0.8   ,  1.0212, ..., 10.7   ,  7.9   , 13.5   ],\n",
       "       [ 5.    ,  0.84  ,  1.0193, ..., 10.7   ,  7.9   , 13.5   ]])"
      ]
     },
     "execution_count": 59,
     "metadata": {},
     "output_type": "execute_result"
    }
   ],
   "source": [
    "X"
   ]
  },
  {
   "cell_type": "code",
   "execution_count": 61,
   "id": "a17943be-2460-4a00-8fe6-5a0fee727a42",
   "metadata": {},
   "outputs": [
    {
     "data": {
      "text/plain": [
       "array([[0, 0, 0, ..., 0, 0, 0],\n",
       "       [0, 0, 0, ..., 0, 0, 0],\n",
       "       [0, 0, 0, ..., 0, 0, 0],\n",
       "       ...,\n",
       "       [0, 0, 0, ..., 0, 0, 0],\n",
       "       [0, 0, 0, ..., 0, 0, 0],\n",
       "       [0, 0, 0, ..., 0, 0, 0]], dtype=int64)"
      ]
     },
     "execution_count": 61,
     "metadata": {},
     "output_type": "execute_result"
    }
   ],
   "source": [
    "y"
   ]
  },
  {
   "cell_type": "code",
   "execution_count": 63,
   "id": "947e148c-f71e-4bf1-b657-042952524d76",
   "metadata": {},
   "outputs": [],
   "source": [
    "# Reshaping X as a 3D object\n",
    "X = X.reshape(-1,15,9)"
   ]
  },
  {
   "cell_type": "code",
   "execution_count": 65,
   "id": "48ef69cb-84e8-4633-b18a-3ade4405696b",
   "metadata": {},
   "outputs": [
    {
     "data": {
      "text/plain": [
       "(22950, 15, 9)"
      ]
     },
     "execution_count": 65,
     "metadata": {},
     "output_type": "execute_result"
    }
   ],
   "source": [
    "X.shape"
   ]
  },
  {
   "cell_type": "code",
   "execution_count": 67,
   "id": "0a6d9a0c-179e-4362-9b8b-97de699976cd",
   "metadata": {},
   "outputs": [
    {
     "data": {
      "text/plain": [
       "(22950, 15)"
      ]
     },
     "execution_count": 67,
     "metadata": {},
     "output_type": "execute_result"
    }
   ],
   "source": [
    "y.shape"
   ]
  },
  {
   "cell_type": "markdown",
   "id": "042ea881-6e9f-4634-9196-1939bee5c250",
   "metadata": {},
   "source": [
    "## Split Data"
   ]
  },
  {
   "cell_type": "code",
   "execution_count": 70,
   "id": "3324bd6f-1121-4c19-ad30-47b222e23601",
   "metadata": {},
   "outputs": [],
   "source": [
    "# Split data into train and test sets\n",
    "X_train, X_test, y_train, y_test = train_test_split(X,y,random_state = 42)"
   ]
  },
  {
   "cell_type": "markdown",
   "id": "34e2cb43-ac08-44a9-9561-b9238f9f316b",
   "metadata": {},
   "source": [
    "## Create Keras Model"
   ]
  },
  {
   "cell_type": "code",
   "execution_count": 73,
   "id": "0f8287e8-8482-4188-856e-b531cdd40080",
   "metadata": {},
   "outputs": [
    {
     "name": "stderr",
     "output_type": "stream",
     "text": [
      "C:\\anaconda\\anaconda3\\Lib\\site-packages\\keras\\src\\layers\\rnn\\rnn.py:200: UserWarning: Do not pass an `input_shape`/`input_dim` argument to a layer. When using Sequential models, prefer using an `Input(shape)` object as the first layer in the model instead.\n",
      "  super().__init__(**kwargs)\n"
     ]
    }
   ],
   "source": [
    "epochs = 20\n",
    "batch_size = 16\n",
    "n_hidden = 16\n",
    "\n",
    "timesteps = len(X_train[0])\n",
    "input_dim = len(X_train[0][0])\n",
    "n_classes = len(y_train[0])\n",
    "\n",
    "model = Sequential()\n",
    "model.add(LSTM(n_hidden, input_shape=(timesteps, input_dim)))\n",
    "model.add(Dropout(0.5))\n",
    "model.add(Dense(n_classes, activation='sigmoid'))"
   ]
  },
  {
   "cell_type": "code",
   "execution_count": 75,
   "id": "c65b99e0-6121-453f-a630-e1a7d182caa4",
   "metadata": {},
   "outputs": [
    {
     "data": {
      "text/html": [
       "<pre style=\"white-space:pre;overflow-x:auto;line-height:normal;font-family:Menlo,'DejaVu Sans Mono',consolas,'Courier New',monospace\"><span style=\"font-weight: bold\">Model: \"sequential\"</span>\n",
       "</pre>\n"
      ],
      "text/plain": [
       "\u001b[1mModel: \"sequential\"\u001b[0m\n"
      ]
     },
     "metadata": {},
     "output_type": "display_data"
    },
    {
     "data": {
      "text/html": [
       "<pre style=\"white-space:pre;overflow-x:auto;line-height:normal;font-family:Menlo,'DejaVu Sans Mono',consolas,'Courier New',monospace\">┏━━━━━━━━━━━━━━━━━━━━━━━━━━━━━━━━━┳━━━━━━━━━━━━━━━━━━━━━━━━┳━━━━━━━━━━━━━━━┓\n",
       "┃<span style=\"font-weight: bold\"> Layer (type)                    </span>┃<span style=\"font-weight: bold\"> Output Shape           </span>┃<span style=\"font-weight: bold\">       Param # </span>┃\n",
       "┡━━━━━━━━━━━━━━━━━━━━━━━━━━━━━━━━━╇━━━━━━━━━━━━━━━━━━━━━━━━╇━━━━━━━━━━━━━━━┩\n",
       "│ lstm (<span style=\"color: #0087ff; text-decoration-color: #0087ff\">LSTM</span>)                     │ (<span style=\"color: #00d7ff; text-decoration-color: #00d7ff\">None</span>, <span style=\"color: #00af00; text-decoration-color: #00af00\">16</span>)             │         <span style=\"color: #00af00; text-decoration-color: #00af00\">1,664</span> │\n",
       "├─────────────────────────────────┼────────────────────────┼───────────────┤\n",
       "│ dropout (<span style=\"color: #0087ff; text-decoration-color: #0087ff\">Dropout</span>)               │ (<span style=\"color: #00d7ff; text-decoration-color: #00d7ff\">None</span>, <span style=\"color: #00af00; text-decoration-color: #00af00\">16</span>)             │             <span style=\"color: #00af00; text-decoration-color: #00af00\">0</span> │\n",
       "├─────────────────────────────────┼────────────────────────┼───────────────┤\n",
       "│ dense (<span style=\"color: #0087ff; text-decoration-color: #0087ff\">Dense</span>)                   │ (<span style=\"color: #00d7ff; text-decoration-color: #00d7ff\">None</span>, <span style=\"color: #00af00; text-decoration-color: #00af00\">15</span>)             │           <span style=\"color: #00af00; text-decoration-color: #00af00\">255</span> │\n",
       "└─────────────────────────────────┴────────────────────────┴───────────────┘\n",
       "</pre>\n"
      ],
      "text/plain": [
       "┏━━━━━━━━━━━━━━━━━━━━━━━━━━━━━━━━━┳━━━━━━━━━━━━━━━━━━━━━━━━┳━━━━━━━━━━━━━━━┓\n",
       "┃\u001b[1m \u001b[0m\u001b[1mLayer (type)                   \u001b[0m\u001b[1m \u001b[0m┃\u001b[1m \u001b[0m\u001b[1mOutput Shape          \u001b[0m\u001b[1m \u001b[0m┃\u001b[1m \u001b[0m\u001b[1m      Param #\u001b[0m\u001b[1m \u001b[0m┃\n",
       "┡━━━━━━━━━━━━━━━━━━━━━━━━━━━━━━━━━╇━━━━━━━━━━━━━━━━━━━━━━━━╇━━━━━━━━━━━━━━━┩\n",
       "│ lstm (\u001b[38;5;33mLSTM\u001b[0m)                     │ (\u001b[38;5;45mNone\u001b[0m, \u001b[38;5;34m16\u001b[0m)             │         \u001b[38;5;34m1,664\u001b[0m │\n",
       "├─────────────────────────────────┼────────────────────────┼───────────────┤\n",
       "│ dropout (\u001b[38;5;33mDropout\u001b[0m)               │ (\u001b[38;5;45mNone\u001b[0m, \u001b[38;5;34m16\u001b[0m)             │             \u001b[38;5;34m0\u001b[0m │\n",
       "├─────────────────────────────────┼────────────────────────┼───────────────┤\n",
       "│ dense (\u001b[38;5;33mDense\u001b[0m)                   │ (\u001b[38;5;45mNone\u001b[0m, \u001b[38;5;34m15\u001b[0m)             │           \u001b[38;5;34m255\u001b[0m │\n",
       "└─────────────────────────────────┴────────────────────────┴───────────────┘\n"
      ]
     },
     "metadata": {},
     "output_type": "display_data"
    },
    {
     "data": {
      "text/html": [
       "<pre style=\"white-space:pre;overflow-x:auto;line-height:normal;font-family:Menlo,'DejaVu Sans Mono',consolas,'Courier New',monospace\"><span style=\"font-weight: bold\"> Total params: </span><span style=\"color: #00af00; text-decoration-color: #00af00\">1,919</span> (7.50 KB)\n",
       "</pre>\n"
      ],
      "text/plain": [
       "\u001b[1m Total params: \u001b[0m\u001b[38;5;34m1,919\u001b[0m (7.50 KB)\n"
      ]
     },
     "metadata": {},
     "output_type": "display_data"
    },
    {
     "data": {
      "text/html": [
       "<pre style=\"white-space:pre;overflow-x:auto;line-height:normal;font-family:Menlo,'DejaVu Sans Mono',consolas,'Courier New',monospace\"><span style=\"font-weight: bold\"> Trainable params: </span><span style=\"color: #00af00; text-decoration-color: #00af00\">1,919</span> (7.50 KB)\n",
       "</pre>\n"
      ],
      "text/plain": [
       "\u001b[1m Trainable params: \u001b[0m\u001b[38;5;34m1,919\u001b[0m (7.50 KB)\n"
      ]
     },
     "metadata": {},
     "output_type": "display_data"
    },
    {
     "data": {
      "text/html": [
       "<pre style=\"white-space:pre;overflow-x:auto;line-height:normal;font-family:Menlo,'DejaVu Sans Mono',consolas,'Courier New',monospace\"><span style=\"font-weight: bold\"> Non-trainable params: </span><span style=\"color: #00af00; text-decoration-color: #00af00\">0</span> (0.00 B)\n",
       "</pre>\n"
      ],
      "text/plain": [
       "\u001b[1m Non-trainable params: \u001b[0m\u001b[38;5;34m0\u001b[0m (0.00 B)\n"
      ]
     },
     "metadata": {},
     "output_type": "display_data"
    }
   ],
   "source": [
    "model.summary()"
   ]
  },
  {
   "cell_type": "markdown",
   "id": "50eab6a8-ecbd-41e8-80ff-d3e14ecdd988",
   "metadata": {},
   "source": [
    "## Compile and Run RNN Model"
   ]
  },
  {
   "cell_type": "code",
   "execution_count": 78,
   "id": "c933ffe7-f120-4319-a72c-54ee090387bf",
   "metadata": {},
   "outputs": [],
   "source": [
    "model.compile(loss='categorical_crossentropy',\n",
    "              optimizer='rmsprop',\n",
    "              metrics=['accuracy'])"
   ]
  },
  {
   "cell_type": "code",
   "execution_count": 80,
   "id": "6fee1584-ee73-4f42-aa83-27a5411b7280",
   "metadata": {
    "scrolled": true
   },
   "outputs": [
    {
     "name": "stdout",
     "output_type": "stream",
     "text": [
      "Epoch 1/20\n",
      "\u001b[1m1076/1076\u001b[0m \u001b[32m━━━━━━━━━━━━━━━━━━━━\u001b[0m\u001b[37m\u001b[0m \u001b[1m4s\u001b[0m 3ms/step - accuracy: 0.1045 - loss: 10.0289 - val_accuracy: 0.1842 - val_loss: 8.4589\n",
      "Epoch 2/20\n",
      "\u001b[1m1076/1076\u001b[0m \u001b[32m━━━━━━━━━━━━━━━━━━━━\u001b[0m\u001b[37m\u001b[0m \u001b[1m3s\u001b[0m 3ms/step - accuracy: 0.1975 - loss: 10.0462 - val_accuracy: 0.2623 - val_loss: 8.5934\n",
      "Epoch 3/20\n",
      "\u001b[1m1076/1076\u001b[0m \u001b[32m━━━━━━━━━━━━━━━━━━━━\u001b[0m\u001b[37m\u001b[0m \u001b[1m3s\u001b[0m 3ms/step - accuracy: 0.2735 - loss: 9.6848 - val_accuracy: 0.3116 - val_loss: 8.8989\n",
      "Epoch 4/20\n",
      "\u001b[1m1076/1076\u001b[0m \u001b[32m━━━━━━━━━━━━━━━━━━━━\u001b[0m\u001b[37m\u001b[0m \u001b[1m3s\u001b[0m 3ms/step - accuracy: 0.2879 - loss: 10.1991 - val_accuracy: 0.3041 - val_loss: 9.1845\n",
      "Epoch 5/20\n",
      "\u001b[1m1076/1076\u001b[0m \u001b[32m━━━━━━━━━━━━━━━━━━━━\u001b[0m\u001b[37m\u001b[0m \u001b[1m3s\u001b[0m 3ms/step - accuracy: 0.2953 - loss: 10.3659 - val_accuracy: 0.3135 - val_loss: 9.5264\n",
      "Epoch 6/20\n",
      "\u001b[1m1076/1076\u001b[0m \u001b[32m━━━━━━━━━━━━━━━━━━━━\u001b[0m\u001b[37m\u001b[0m \u001b[1m3s\u001b[0m 3ms/step - accuracy: 0.3297 - loss: 10.4296 - val_accuracy: 0.3060 - val_loss: 9.7929\n",
      "Epoch 7/20\n",
      "\u001b[1m1076/1076\u001b[0m \u001b[32m━━━━━━━━━━━━━━━━━━━━\u001b[0m\u001b[37m\u001b[0m \u001b[1m3s\u001b[0m 3ms/step - accuracy: 0.4037 - loss: 10.7235 - val_accuracy: 0.6389 - val_loss: 10.0326\n",
      "Epoch 8/20\n",
      "\u001b[1m1076/1076\u001b[0m \u001b[32m━━━━━━━━━━━━━━━━━━━━\u001b[0m\u001b[37m\u001b[0m \u001b[1m3s\u001b[0m 3ms/step - accuracy: 0.5053 - loss: 11.0524 - val_accuracy: 0.6368 - val_loss: 10.3698\n",
      "Epoch 9/20\n",
      "\u001b[1m1076/1076\u001b[0m \u001b[32m━━━━━━━━━━━━━━━━━━━━\u001b[0m\u001b[37m\u001b[0m \u001b[1m3s\u001b[0m 3ms/step - accuracy: 0.5453 - loss: 11.0939 - val_accuracy: 0.6401 - val_loss: 10.6392\n",
      "Epoch 10/20\n",
      "\u001b[1m1076/1076\u001b[0m \u001b[32m━━━━━━━━━━━━━━━━━━━━\u001b[0m\u001b[37m\u001b[0m \u001b[1m3s\u001b[0m 3ms/step - accuracy: 0.5774 - loss: 11.3721 - val_accuracy: 0.6377 - val_loss: 10.8590\n",
      "Epoch 11/20\n",
      "\u001b[1m1076/1076\u001b[0m \u001b[32m━━━━━━━━━━━━━━━━━━━━\u001b[0m\u001b[37m\u001b[0m \u001b[1m3s\u001b[0m 3ms/step - accuracy: 0.6002 - loss: 11.6738 - val_accuracy: 0.6426 - val_loss: 11.1088\n",
      "Epoch 12/20\n",
      "\u001b[1m1076/1076\u001b[0m \u001b[32m━━━━━━━━━━━━━━━━━━━━\u001b[0m\u001b[37m\u001b[0m \u001b[1m3s\u001b[0m 3ms/step - accuracy: 0.6045 - loss: 11.9330 - val_accuracy: 0.6415 - val_loss: 11.3477\n",
      "Epoch 13/20\n",
      "\u001b[1m1076/1076\u001b[0m \u001b[32m━━━━━━━━━━━━━━━━━━━━\u001b[0m\u001b[37m\u001b[0m \u001b[1m3s\u001b[0m 3ms/step - accuracy: 0.6276 - loss: 11.9122 - val_accuracy: 0.6417 - val_loss: 11.5870\n",
      "Epoch 14/20\n",
      "\u001b[1m1076/1076\u001b[0m \u001b[32m━━━━━━━━━━━━━━━━━━━━\u001b[0m\u001b[37m\u001b[0m \u001b[1m3s\u001b[0m 3ms/step - accuracy: 0.6301 - loss: 12.2178 - val_accuracy: 0.6415 - val_loss: 11.7199\n",
      "Epoch 15/20\n",
      "\u001b[1m1076/1076\u001b[0m \u001b[32m━━━━━━━━━━━━━━━━━━━━\u001b[0m\u001b[37m\u001b[0m \u001b[1m3s\u001b[0m 3ms/step - accuracy: 0.6267 - loss: 12.3287 - val_accuracy: 0.6413 - val_loss: 12.0838\n",
      "Epoch 16/20\n",
      "\u001b[1m1076/1076\u001b[0m \u001b[32m━━━━━━━━━━━━━━━━━━━━\u001b[0m\u001b[37m\u001b[0m \u001b[1m3s\u001b[0m 3ms/step - accuracy: 0.6434 - loss: 12.4525 - val_accuracy: 0.6405 - val_loss: 12.2232\n",
      "Epoch 17/20\n",
      "\u001b[1m1076/1076\u001b[0m \u001b[32m━━━━━━━━━━━━━━━━━━━━\u001b[0m\u001b[37m\u001b[0m \u001b[1m3s\u001b[0m 3ms/step - accuracy: 0.6434 - loss: 12.8746 - val_accuracy: 0.6410 - val_loss: 12.4549\n",
      "Epoch 18/20\n",
      "\u001b[1m1076/1076\u001b[0m \u001b[32m━━━━━━━━━━━━━━━━━━━━\u001b[0m\u001b[37m\u001b[0m \u001b[1m3s\u001b[0m 3ms/step - accuracy: 0.6401 - loss: 13.0450 - val_accuracy: 0.6406 - val_loss: 12.5988\n",
      "Epoch 19/20\n",
      "\u001b[1m1076/1076\u001b[0m \u001b[32m━━━━━━━━━━━━━━━━━━━━\u001b[0m\u001b[37m\u001b[0m \u001b[1m3s\u001b[0m 3ms/step - accuracy: 0.6402 - loss: 13.0150 - val_accuracy: 0.6427 - val_loss: 12.7730\n",
      "Epoch 20/20\n",
      "\u001b[1m1076/1076\u001b[0m \u001b[32m━━━━━━━━━━━━━━━━━━━━\u001b[0m\u001b[37m\u001b[0m \u001b[1m3s\u001b[0m 3ms/step - accuracy: 0.6374 - loss: 13.3914 - val_accuracy: 0.6419 - val_loss: 12.9366\n"
     ]
    },
    {
     "data": {
      "text/plain": [
       "<keras.src.callbacks.history.History at 0x1b50df224e0>"
      ]
     },
     "execution_count": 80,
     "metadata": {},
     "output_type": "execute_result"
    }
   ],
   "source": [
    "model.fit(X_train,\n",
    "          y_train,\n",
    "          batch_size=batch_size,\n",
    "          validation_data=(X_test, y_test),\n",
    "          epochs=epochs)"
   ]
  },
  {
   "cell_type": "markdown",
   "id": "4b439737-c9bd-429b-aeea-ec8a93170f4c",
   "metadata": {},
   "source": [
    "## Confusion Marix of Models"
   ]
  },
  {
   "cell_type": "code",
   "execution_count": 84,
   "id": "98cf8c81-76e8-41d2-b36b-25d94ba105a0",
   "metadata": {},
   "outputs": [],
   "source": [
    "# Define list of stations names\n",
    "stations = {\n",
    "0: 'BASEL',\n",
    "1: 'BELGRADE',\n",
    "2: 'BUDAPEST',\n",
    "3: 'DEBILT',\n",
    "4: 'DUSSELDORF',\n",
    "5: 'HEATHROW',\n",
    "6: 'KASSEL',\n",
    "7: 'LJUBLJANA',\n",
    "8: 'MAASTRICHT',\n",
    "9: 'MADRID',\n",
    "10: 'MUNCHENB',\n",
    "11: 'OSLO',\n",
    "12: 'SONNBLICK',\n",
    "13: 'STOCKHOLM',\n",
    "14: 'VALENTIA'\n",
    "}"
   ]
  },
  {
   "cell_type": "code",
   "execution_count": 86,
   "id": "9259437f-89fe-482c-a93f-eecd69c7ac63",
   "metadata": {},
   "outputs": [],
   "source": [
    "def confusion_matrix(y_true, y_pred):\n",
    "    y_true = pd.Series([stations[y] for y in np.argmax(y_true, axis=1)])\n",
    "    y_pred = pd.Series([stations[y] for y in np.argmax(y_pred, axis=1)])\n",
    "\n",
    "    return pd.crosstab(y_true, y_pred, rownames=['True'], colnames=['Pred'])"
   ]
  },
  {
   "cell_type": "code",
   "execution_count": 88,
   "id": "03e9a5f9-43be-4fd0-8bdc-e9f5975cb6d6",
   "metadata": {},
   "outputs": [
    {
     "name": "stdout",
     "output_type": "stream",
     "text": [
      "\u001b[1m180/180\u001b[0m \u001b[32m━━━━━━━━━━━━━━━━━━━━\u001b[0m\u001b[37m\u001b[0m \u001b[1m1s\u001b[0m 2ms/step\n",
      "Pred        BASEL  MADRID\n",
      "True                     \n",
      "BASEL        3676       6\n",
      "BELGRADE     1090       2\n",
      "BUDAPEST      212       2\n",
      "DEBILT         82       0\n",
      "DUSSELDORF     29       0\n",
      "HEATHROW       82       0\n",
      "KASSEL         11       0\n",
      "LJUBLJANA      59       2\n",
      "MAASTRICHT      9       0\n",
      "MADRID        451       7\n",
      "MUNCHENB        8       0\n",
      "OSLO            5       0\n",
      "STOCKHOLM       4       0\n",
      "VALENTIA        1       0\n"
     ]
    }
   ],
   "source": [
    "print(confusion_matrix(y_test, model.predict(X_test)))"
   ]
  },
  {
   "cell_type": "markdown",
   "id": "f8cf0fe3-f038-4ab1-b136-309b3b7a7781",
   "metadata": {},
   "source": [
    "## Adjust Hyperparameters"
   ]
  },
  {
   "cell_type": "code",
   "execution_count": 91,
   "id": "721cfc05-f421-485c-98b4-9f362efebae8",
   "metadata": {},
   "outputs": [
    {
     "name": "stderr",
     "output_type": "stream",
     "text": [
      "C:\\anaconda\\anaconda3\\Lib\\site-packages\\keras\\src\\layers\\rnn\\rnn.py:200: UserWarning: Do not pass an `input_shape`/`input_dim` argument to a layer. When using Sequential models, prefer using an `Input(shape)` object as the first layer in the model instead.\n",
      "  super().__init__(**kwargs)\n"
     ]
    }
   ],
   "source": [
    "epochs = 30\n",
    "batch_size = 16\n",
    "n_hidden = 32\n",
    "\n",
    "timesteps = len(X_train[0])\n",
    "input_dim = len(X_train[0][0])\n",
    "n_classes = len(y_train[0])\n",
    "\n",
    "model = Sequential()\n",
    "model.add(LSTM(n_hidden, input_shape=(timesteps, input_dim)))\n",
    "model.add(Dropout(0.5))\n",
    "model.add(Dense(n_classes, activation='sigmoid'))"
   ]
  },
  {
   "cell_type": "code",
   "execution_count": 93,
   "id": "7ebf54d5-3fcf-4669-a589-7990d3f8d247",
   "metadata": {},
   "outputs": [
    {
     "data": {
      "text/html": [
       "<pre style=\"white-space:pre;overflow-x:auto;line-height:normal;font-family:Menlo,'DejaVu Sans Mono',consolas,'Courier New',monospace\"><span style=\"font-weight: bold\">Model: \"sequential_1\"</span>\n",
       "</pre>\n"
      ],
      "text/plain": [
       "\u001b[1mModel: \"sequential_1\"\u001b[0m\n"
      ]
     },
     "metadata": {},
     "output_type": "display_data"
    },
    {
     "data": {
      "text/html": [
       "<pre style=\"white-space:pre;overflow-x:auto;line-height:normal;font-family:Menlo,'DejaVu Sans Mono',consolas,'Courier New',monospace\">┏━━━━━━━━━━━━━━━━━━━━━━━━━━━━━━━━━┳━━━━━━━━━━━━━━━━━━━━━━━━┳━━━━━━━━━━━━━━━┓\n",
       "┃<span style=\"font-weight: bold\"> Layer (type)                    </span>┃<span style=\"font-weight: bold\"> Output Shape           </span>┃<span style=\"font-weight: bold\">       Param # </span>┃\n",
       "┡━━━━━━━━━━━━━━━━━━━━━━━━━━━━━━━━━╇━━━━━━━━━━━━━━━━━━━━━━━━╇━━━━━━━━━━━━━━━┩\n",
       "│ lstm_1 (<span style=\"color: #0087ff; text-decoration-color: #0087ff\">LSTM</span>)                   │ (<span style=\"color: #00d7ff; text-decoration-color: #00d7ff\">None</span>, <span style=\"color: #00af00; text-decoration-color: #00af00\">32</span>)             │         <span style=\"color: #00af00; text-decoration-color: #00af00\">5,376</span> │\n",
       "├─────────────────────────────────┼────────────────────────┼───────────────┤\n",
       "│ dropout_1 (<span style=\"color: #0087ff; text-decoration-color: #0087ff\">Dropout</span>)             │ (<span style=\"color: #00d7ff; text-decoration-color: #00d7ff\">None</span>, <span style=\"color: #00af00; text-decoration-color: #00af00\">32</span>)             │             <span style=\"color: #00af00; text-decoration-color: #00af00\">0</span> │\n",
       "├─────────────────────────────────┼────────────────────────┼───────────────┤\n",
       "│ dense_1 (<span style=\"color: #0087ff; text-decoration-color: #0087ff\">Dense</span>)                 │ (<span style=\"color: #00d7ff; text-decoration-color: #00d7ff\">None</span>, <span style=\"color: #00af00; text-decoration-color: #00af00\">15</span>)             │           <span style=\"color: #00af00; text-decoration-color: #00af00\">495</span> │\n",
       "└─────────────────────────────────┴────────────────────────┴───────────────┘\n",
       "</pre>\n"
      ],
      "text/plain": [
       "┏━━━━━━━━━━━━━━━━━━━━━━━━━━━━━━━━━┳━━━━━━━━━━━━━━━━━━━━━━━━┳━━━━━━━━━━━━━━━┓\n",
       "┃\u001b[1m \u001b[0m\u001b[1mLayer (type)                   \u001b[0m\u001b[1m \u001b[0m┃\u001b[1m \u001b[0m\u001b[1mOutput Shape          \u001b[0m\u001b[1m \u001b[0m┃\u001b[1m \u001b[0m\u001b[1m      Param #\u001b[0m\u001b[1m \u001b[0m┃\n",
       "┡━━━━━━━━━━━━━━━━━━━━━━━━━━━━━━━━━╇━━━━━━━━━━━━━━━━━━━━━━━━╇━━━━━━━━━━━━━━━┩\n",
       "│ lstm_1 (\u001b[38;5;33mLSTM\u001b[0m)                   │ (\u001b[38;5;45mNone\u001b[0m, \u001b[38;5;34m32\u001b[0m)             │         \u001b[38;5;34m5,376\u001b[0m │\n",
       "├─────────────────────────────────┼────────────────────────┼───────────────┤\n",
       "│ dropout_1 (\u001b[38;5;33mDropout\u001b[0m)             │ (\u001b[38;5;45mNone\u001b[0m, \u001b[38;5;34m32\u001b[0m)             │             \u001b[38;5;34m0\u001b[0m │\n",
       "├─────────────────────────────────┼────────────────────────┼───────────────┤\n",
       "│ dense_1 (\u001b[38;5;33mDense\u001b[0m)                 │ (\u001b[38;5;45mNone\u001b[0m, \u001b[38;5;34m15\u001b[0m)             │           \u001b[38;5;34m495\u001b[0m │\n",
       "└─────────────────────────────────┴────────────────────────┴───────────────┘\n"
      ]
     },
     "metadata": {},
     "output_type": "display_data"
    },
    {
     "data": {
      "text/html": [
       "<pre style=\"white-space:pre;overflow-x:auto;line-height:normal;font-family:Menlo,'DejaVu Sans Mono',consolas,'Courier New',monospace\"><span style=\"font-weight: bold\"> Total params: </span><span style=\"color: #00af00; text-decoration-color: #00af00\">5,871</span> (22.93 KB)\n",
       "</pre>\n"
      ],
      "text/plain": [
       "\u001b[1m Total params: \u001b[0m\u001b[38;5;34m5,871\u001b[0m (22.93 KB)\n"
      ]
     },
     "metadata": {},
     "output_type": "display_data"
    },
    {
     "data": {
      "text/html": [
       "<pre style=\"white-space:pre;overflow-x:auto;line-height:normal;font-family:Menlo,'DejaVu Sans Mono',consolas,'Courier New',monospace\"><span style=\"font-weight: bold\"> Trainable params: </span><span style=\"color: #00af00; text-decoration-color: #00af00\">5,871</span> (22.93 KB)\n",
       "</pre>\n"
      ],
      "text/plain": [
       "\u001b[1m Trainable params: \u001b[0m\u001b[38;5;34m5,871\u001b[0m (22.93 KB)\n"
      ]
     },
     "metadata": {},
     "output_type": "display_data"
    },
    {
     "data": {
      "text/html": [
       "<pre style=\"white-space:pre;overflow-x:auto;line-height:normal;font-family:Menlo,'DejaVu Sans Mono',consolas,'Courier New',monospace\"><span style=\"font-weight: bold\"> Non-trainable params: </span><span style=\"color: #00af00; text-decoration-color: #00af00\">0</span> (0.00 B)\n",
       "</pre>\n"
      ],
      "text/plain": [
       "\u001b[1m Non-trainable params: \u001b[0m\u001b[38;5;34m0\u001b[0m (0.00 B)\n"
      ]
     },
     "metadata": {},
     "output_type": "display_data"
    }
   ],
   "source": [
    "model.summary()"
   ]
  },
  {
   "cell_type": "code",
   "execution_count": 95,
   "id": "62a2c670-4c60-4e47-bc34-86242c89e0fc",
   "metadata": {},
   "outputs": [],
   "source": [
    "model.compile(loss='categorical_crossentropy',\n",
    "              optimizer='rmsprop',\n",
    "              metrics=['accuracy'])"
   ]
  },
  {
   "cell_type": "code",
   "execution_count": 97,
   "id": "4a24fcb1-75f6-49e1-8d9a-8fa867eefca1",
   "metadata": {
    "scrolled": true
   },
   "outputs": [
    {
     "name": "stdout",
     "output_type": "stream",
     "text": [
      "Epoch 1/30\n",
      "\u001b[1m1076/1076\u001b[0m \u001b[32m━━━━━━━━━━━━━━━━━━━━\u001b[0m\u001b[37m\u001b[0m \u001b[1m5s\u001b[0m 3ms/step - accuracy: 0.1304 - loss: 10.2663 - val_accuracy: 0.2684 - val_loss: 9.0097\n",
      "Epoch 2/30\n",
      "\u001b[1m1076/1076\u001b[0m \u001b[32m━━━━━━━━━━━━━━━━━━━━\u001b[0m\u001b[37m\u001b[0m \u001b[1m3s\u001b[0m 3ms/step - accuracy: 0.2745 - loss: 10.7839 - val_accuracy: 0.2734 - val_loss: 9.3033\n",
      "Epoch 3/30\n",
      "\u001b[1m1076/1076\u001b[0m \u001b[32m━━━━━━━━━━━━━━━━━━━━\u001b[0m\u001b[37m\u001b[0m \u001b[1m3s\u001b[0m 3ms/step - accuracy: 0.2754 - loss: 10.8235 - val_accuracy: 0.2701 - val_loss: 9.3311\n",
      "Epoch 4/30\n",
      "\u001b[1m1076/1076\u001b[0m \u001b[32m━━━━━━━━━━━━━━━━━━━━\u001b[0m\u001b[37m\u001b[0m \u001b[1m3s\u001b[0m 3ms/step - accuracy: 0.3761 - loss: 10.8919 - val_accuracy: 0.6392 - val_loss: 9.6561\n",
      "Epoch 5/30\n",
      "\u001b[1m1076/1076\u001b[0m \u001b[32m━━━━━━━━━━━━━━━━━━━━\u001b[0m\u001b[37m\u001b[0m \u001b[1m3s\u001b[0m 3ms/step - accuracy: 0.5642 - loss: 10.7314 - val_accuracy: 0.6424 - val_loss: 10.0070\n",
      "Epoch 6/30\n",
      "\u001b[1m1076/1076\u001b[0m \u001b[32m━━━━━━━━━━━━━━━━━━━━\u001b[0m\u001b[37m\u001b[0m \u001b[1m3s\u001b[0m 3ms/step - accuracy: 0.6251 - loss: 11.1447 - val_accuracy: 0.6398 - val_loss: 10.0619\n",
      "Epoch 7/30\n",
      "\u001b[1m1076/1076\u001b[0m \u001b[32m━━━━━━━━━━━━━━━━━━━━\u001b[0m\u001b[37m\u001b[0m \u001b[1m3s\u001b[0m 3ms/step - accuracy: 0.6409 - loss: 10.9196 - val_accuracy: 0.6413 - val_loss: 10.3199\n",
      "Epoch 8/30\n",
      "\u001b[1m1076/1076\u001b[0m \u001b[32m━━━━━━━━━━━━━━━━━━━━\u001b[0m\u001b[37m\u001b[0m \u001b[1m3s\u001b[0m 3ms/step - accuracy: 0.6360 - loss: 11.4959 - val_accuracy: 0.6408 - val_loss: 10.6033\n",
      "Epoch 9/30\n",
      "\u001b[1m1076/1076\u001b[0m \u001b[32m━━━━━━━━━━━━━━━━━━━━\u001b[0m\u001b[37m\u001b[0m \u001b[1m3s\u001b[0m 3ms/step - accuracy: 0.6458 - loss: 11.8035 - val_accuracy: 0.6413 - val_loss: 10.9618\n",
      "Epoch 10/30\n",
      "\u001b[1m1076/1076\u001b[0m \u001b[32m━━━━━━━━━━━━━━━━━━━━\u001b[0m\u001b[37m\u001b[0m \u001b[1m3s\u001b[0m 3ms/step - accuracy: 0.6380 - loss: 11.8433 - val_accuracy: 0.6427 - val_loss: 11.3248\n",
      "Epoch 11/30\n",
      "\u001b[1m1076/1076\u001b[0m \u001b[32m━━━━━━━━━━━━━━━━━━━━\u001b[0m\u001b[37m\u001b[0m \u001b[1m3s\u001b[0m 3ms/step - accuracy: 0.6369 - loss: 12.3780 - val_accuracy: 0.6426 - val_loss: 11.5388\n",
      "Epoch 12/30\n",
      "\u001b[1m1076/1076\u001b[0m \u001b[32m━━━━━━━━━━━━━━━━━━━━\u001b[0m\u001b[37m\u001b[0m \u001b[1m3s\u001b[0m 3ms/step - accuracy: 0.6453 - loss: 12.5875 - val_accuracy: 0.6438 - val_loss: 11.8874\n",
      "Epoch 13/30\n",
      "\u001b[1m1076/1076\u001b[0m \u001b[32m━━━━━━━━━━━━━━━━━━━━\u001b[0m\u001b[37m\u001b[0m \u001b[1m3s\u001b[0m 3ms/step - accuracy: 0.6478 - loss: 12.7490 - val_accuracy: 0.6415 - val_loss: 12.1544\n",
      "Epoch 14/30\n",
      "\u001b[1m1076/1076\u001b[0m \u001b[32m━━━━━━━━━━━━━━━━━━━━\u001b[0m\u001b[37m\u001b[0m \u001b[1m3s\u001b[0m 3ms/step - accuracy: 0.6415 - loss: 12.8728 - val_accuracy: 0.6419 - val_loss: 12.5071\n",
      "Epoch 15/30\n",
      "\u001b[1m1076/1076\u001b[0m \u001b[32m━━━━━━━━━━━━━━━━━━━━\u001b[0m\u001b[37m\u001b[0m \u001b[1m3s\u001b[0m 3ms/step - accuracy: 0.6441 - loss: 13.0664 - val_accuracy: 0.6426 - val_loss: 12.6365\n",
      "Epoch 16/30\n",
      "\u001b[1m1076/1076\u001b[0m \u001b[32m━━━━━━━━━━━━━━━━━━━━\u001b[0m\u001b[37m\u001b[0m \u001b[1m3s\u001b[0m 3ms/step - accuracy: 0.6424 - loss: 13.7465 - val_accuracy: 0.6420 - val_loss: 12.9404\n",
      "Epoch 17/30\n",
      "\u001b[1m1076/1076\u001b[0m \u001b[32m━━━━━━━━━━━━━━━━━━━━\u001b[0m\u001b[37m\u001b[0m \u001b[1m3s\u001b[0m 3ms/step - accuracy: 0.6487 - loss: 13.8077 - val_accuracy: 0.6422 - val_loss: 13.3767\n",
      "Epoch 18/30\n",
      "\u001b[1m1076/1076\u001b[0m \u001b[32m━━━━━━━━━━━━━━━━━━━━\u001b[0m\u001b[37m\u001b[0m \u001b[1m3s\u001b[0m 3ms/step - accuracy: 0.6386 - loss: 14.3420 - val_accuracy: 0.6420 - val_loss: 13.5283\n",
      "Epoch 19/30\n",
      "\u001b[1m1076/1076\u001b[0m \u001b[32m━━━━━━━━━━━━━━━━━━━━\u001b[0m\u001b[37m\u001b[0m \u001b[1m3s\u001b[0m 3ms/step - accuracy: 0.6435 - loss: 14.5994 - val_accuracy: 0.6426 - val_loss: 13.8537\n",
      "Epoch 20/30\n",
      "\u001b[1m1076/1076\u001b[0m \u001b[32m━━━━━━━━━━━━━━━━━━━━\u001b[0m\u001b[37m\u001b[0m \u001b[1m3s\u001b[0m 3ms/step - accuracy: 0.6419 - loss: 14.7019 - val_accuracy: 0.6417 - val_loss: 14.2067\n",
      "Epoch 21/30\n",
      "\u001b[1m1076/1076\u001b[0m \u001b[32m━━━━━━━━━━━━━━━━━━━━\u001b[0m\u001b[37m\u001b[0m \u001b[1m3s\u001b[0m 3ms/step - accuracy: 0.6475 - loss: 15.1308 - val_accuracy: 0.6422 - val_loss: 14.6013\n",
      "Epoch 22/30\n",
      "\u001b[1m1076/1076\u001b[0m \u001b[32m━━━━━━━━━━━━━━━━━━━━\u001b[0m\u001b[37m\u001b[0m \u001b[1m3s\u001b[0m 3ms/step - accuracy: 0.6414 - loss: 15.2168 - val_accuracy: 0.6422 - val_loss: 14.7429\n",
      "Epoch 23/30\n",
      "\u001b[1m1076/1076\u001b[0m \u001b[32m━━━━━━━━━━━━━━━━━━━━\u001b[0m\u001b[37m\u001b[0m \u001b[1m3s\u001b[0m 3ms/step - accuracy: 0.6481 - loss: 15.7247 - val_accuracy: 0.6415 - val_loss: 14.9125\n",
      "Epoch 24/30\n",
      "\u001b[1m1076/1076\u001b[0m \u001b[32m━━━━━━━━━━━━━━━━━━━━\u001b[0m\u001b[37m\u001b[0m \u001b[1m3s\u001b[0m 3ms/step - accuracy: 0.6423 - loss: 15.8227 - val_accuracy: 0.6413 - val_loss: 15.4126\n",
      "Epoch 25/30\n",
      "\u001b[1m1076/1076\u001b[0m \u001b[32m━━━━━━━━━━━━━━━━━━━━\u001b[0m\u001b[37m\u001b[0m \u001b[1m3s\u001b[0m 3ms/step - accuracy: 0.6437 - loss: 16.1435 - val_accuracy: 0.6415 - val_loss: 15.6058\n",
      "Epoch 26/30\n",
      "\u001b[1m1076/1076\u001b[0m \u001b[32m━━━━━━━━━━━━━━━━━━━━\u001b[0m\u001b[37m\u001b[0m \u001b[1m3s\u001b[0m 3ms/step - accuracy: 0.6413 - loss: 16.2903 - val_accuracy: 0.6422 - val_loss: 16.0431\n",
      "Epoch 27/30\n",
      "\u001b[1m1076/1076\u001b[0m \u001b[32m━━━━━━━━━━━━━━━━━━━━\u001b[0m\u001b[37m\u001b[0m \u001b[1m3s\u001b[0m 3ms/step - accuracy: 0.6468 - loss: 16.6534 - val_accuracy: 0.6422 - val_loss: 16.2086\n",
      "Epoch 28/30\n",
      "\u001b[1m1076/1076\u001b[0m \u001b[32m━━━━━━━━━━━━━━━━━━━━\u001b[0m\u001b[37m\u001b[0m \u001b[1m3s\u001b[0m 3ms/step - accuracy: 0.6474 - loss: 17.0222 - val_accuracy: 0.6424 - val_loss: 16.5351\n",
      "Epoch 29/30\n",
      "\u001b[1m1076/1076\u001b[0m \u001b[32m━━━━━━━━━━━━━━━━━━━━\u001b[0m\u001b[37m\u001b[0m \u001b[1m3s\u001b[0m 3ms/step - accuracy: 0.6436 - loss: 17.1215 - val_accuracy: 0.6422 - val_loss: 16.9262\n",
      "Epoch 30/30\n",
      "\u001b[1m1076/1076\u001b[0m \u001b[32m━━━━━━━━━━━━━━━━━━━━\u001b[0m\u001b[37m\u001b[0m \u001b[1m3s\u001b[0m 3ms/step - accuracy: 0.6451 - loss: 18.0268 - val_accuracy: 0.6419 - val_loss: 16.9996\n"
     ]
    },
    {
     "data": {
      "text/plain": [
       "<keras.src.callbacks.history.History at 0x1b511ed0680>"
      ]
     },
     "execution_count": 97,
     "metadata": {},
     "output_type": "execute_result"
    }
   ],
   "source": [
    "model.fit(X_train,\n",
    "          y_train,\n",
    "          batch_size=batch_size,\n",
    "          validation_data=(X_test, y_test),\n",
    "          epochs=epochs)"
   ]
  },
  {
   "cell_type": "code",
   "execution_count": 99,
   "id": "51a9315a-239d-4795-aa75-c996dadc3de8",
   "metadata": {},
   "outputs": [],
   "source": [
    "def confusion_matrix(y_true, y_pred):\n",
    "    y_true = pd.Series([stations[y] for y in np.argmax(y_true, axis=1)])\n",
    "    y_pred = pd.Series([stations[y] for y in np.argmax(y_pred, axis=1)])\n",
    "\n",
    "    return pd.crosstab(y_true, y_pred, rownames=['True'], colnames=['Pred'])"
   ]
  },
  {
   "cell_type": "code",
   "execution_count": 101,
   "id": "f0b55d2d-38fb-492d-9092-cfbfa0aec9f4",
   "metadata": {},
   "outputs": [
    {
     "name": "stdout",
     "output_type": "stream",
     "text": [
      "\u001b[1m180/180\u001b[0m \u001b[32m━━━━━━━━━━━━━━━━━━━━\u001b[0m\u001b[37m\u001b[0m \u001b[1m1s\u001b[0m 2ms/step\n",
      "Pred        BASEL  MADRID\n",
      "True                     \n",
      "BASEL        3680       2\n",
      "BELGRADE     1092       0\n",
      "BUDAPEST      214       0\n",
      "DEBILT         82       0\n",
      "DUSSELDORF     29       0\n",
      "HEATHROW       82       0\n",
      "KASSEL         11       0\n",
      "LJUBLJANA      61       0\n",
      "MAASTRICHT      9       0\n",
      "MADRID        455       3\n",
      "MUNCHENB        8       0\n",
      "OSLO            5       0\n",
      "STOCKHOLM       4       0\n",
      "VALENTIA        1       0\n"
     ]
    }
   ],
   "source": [
    "print(confusion_matrix(y_test, model.predict(X_test)))"
   ]
  },
  {
   "cell_type": "markdown",
   "id": "09db3d40-2c89-438e-8772-5f74b4007346",
   "metadata": {},
   "source": [
    "## Adjusting Hyperparameters and changing Activation"
   ]
  },
  {
   "cell_type": "code",
   "execution_count": 104,
   "id": "e0f47f3b-f313-4124-9a2e-d02fe9ffc69a",
   "metadata": {},
   "outputs": [
    {
     "name": "stderr",
     "output_type": "stream",
     "text": [
      "C:\\anaconda\\anaconda3\\Lib\\site-packages\\keras\\src\\layers\\rnn\\rnn.py:200: UserWarning: Do not pass an `input_shape`/`input_dim` argument to a layer. When using Sequential models, prefer using an `Input(shape)` object as the first layer in the model instead.\n",
      "  super().__init__(**kwargs)\n"
     ]
    }
   ],
   "source": [
    "epochs = 30\n",
    "batch_size = 16\n",
    "n_hidden = 64\n",
    "\n",
    "timesteps = len(X_train[0])\n",
    "input_dim = len(X_train[0][0])\n",
    "n_classes = len(y_train[0])\n",
    "\n",
    "model = Sequential()\n",
    "model.add(LSTM(n_hidden, input_shape=(timesteps, input_dim)))\n",
    "model.add(Dropout(0.5))\n",
    "model.add(Dense(n_classes, activation='tanh'))"
   ]
  },
  {
   "cell_type": "code",
   "execution_count": 106,
   "id": "42e2d751-64ed-4849-852d-5cc88a115977",
   "metadata": {},
   "outputs": [
    {
     "data": {
      "text/html": [
       "<pre style=\"white-space:pre;overflow-x:auto;line-height:normal;font-family:Menlo,'DejaVu Sans Mono',consolas,'Courier New',monospace\"><span style=\"font-weight: bold\">Model: \"sequential_2\"</span>\n",
       "</pre>\n"
      ],
      "text/plain": [
       "\u001b[1mModel: \"sequential_2\"\u001b[0m\n"
      ]
     },
     "metadata": {},
     "output_type": "display_data"
    },
    {
     "data": {
      "text/html": [
       "<pre style=\"white-space:pre;overflow-x:auto;line-height:normal;font-family:Menlo,'DejaVu Sans Mono',consolas,'Courier New',monospace\">┏━━━━━━━━━━━━━━━━━━━━━━━━━━━━━━━━━┳━━━━━━━━━━━━━━━━━━━━━━━━┳━━━━━━━━━━━━━━━┓\n",
       "┃<span style=\"font-weight: bold\"> Layer (type)                    </span>┃<span style=\"font-weight: bold\"> Output Shape           </span>┃<span style=\"font-weight: bold\">       Param # </span>┃\n",
       "┡━━━━━━━━━━━━━━━━━━━━━━━━━━━━━━━━━╇━━━━━━━━━━━━━━━━━━━━━━━━╇━━━━━━━━━━━━━━━┩\n",
       "│ lstm_2 (<span style=\"color: #0087ff; text-decoration-color: #0087ff\">LSTM</span>)                   │ (<span style=\"color: #00d7ff; text-decoration-color: #00d7ff\">None</span>, <span style=\"color: #00af00; text-decoration-color: #00af00\">64</span>)             │        <span style=\"color: #00af00; text-decoration-color: #00af00\">18,944</span> │\n",
       "├─────────────────────────────────┼────────────────────────┼───────────────┤\n",
       "│ dropout_2 (<span style=\"color: #0087ff; text-decoration-color: #0087ff\">Dropout</span>)             │ (<span style=\"color: #00d7ff; text-decoration-color: #00d7ff\">None</span>, <span style=\"color: #00af00; text-decoration-color: #00af00\">64</span>)             │             <span style=\"color: #00af00; text-decoration-color: #00af00\">0</span> │\n",
       "├─────────────────────────────────┼────────────────────────┼───────────────┤\n",
       "│ dense_2 (<span style=\"color: #0087ff; text-decoration-color: #0087ff\">Dense</span>)                 │ (<span style=\"color: #00d7ff; text-decoration-color: #00d7ff\">None</span>, <span style=\"color: #00af00; text-decoration-color: #00af00\">15</span>)             │           <span style=\"color: #00af00; text-decoration-color: #00af00\">975</span> │\n",
       "└─────────────────────────────────┴────────────────────────┴───────────────┘\n",
       "</pre>\n"
      ],
      "text/plain": [
       "┏━━━━━━━━━━━━━━━━━━━━━━━━━━━━━━━━━┳━━━━━━━━━━━━━━━━━━━━━━━━┳━━━━━━━━━━━━━━━┓\n",
       "┃\u001b[1m \u001b[0m\u001b[1mLayer (type)                   \u001b[0m\u001b[1m \u001b[0m┃\u001b[1m \u001b[0m\u001b[1mOutput Shape          \u001b[0m\u001b[1m \u001b[0m┃\u001b[1m \u001b[0m\u001b[1m      Param #\u001b[0m\u001b[1m \u001b[0m┃\n",
       "┡━━━━━━━━━━━━━━━━━━━━━━━━━━━━━━━━━╇━━━━━━━━━━━━━━━━━━━━━━━━╇━━━━━━━━━━━━━━━┩\n",
       "│ lstm_2 (\u001b[38;5;33mLSTM\u001b[0m)                   │ (\u001b[38;5;45mNone\u001b[0m, \u001b[38;5;34m64\u001b[0m)             │        \u001b[38;5;34m18,944\u001b[0m │\n",
       "├─────────────────────────────────┼────────────────────────┼───────────────┤\n",
       "│ dropout_2 (\u001b[38;5;33mDropout\u001b[0m)             │ (\u001b[38;5;45mNone\u001b[0m, \u001b[38;5;34m64\u001b[0m)             │             \u001b[38;5;34m0\u001b[0m │\n",
       "├─────────────────────────────────┼────────────────────────┼───────────────┤\n",
       "│ dense_2 (\u001b[38;5;33mDense\u001b[0m)                 │ (\u001b[38;5;45mNone\u001b[0m, \u001b[38;5;34m15\u001b[0m)             │           \u001b[38;5;34m975\u001b[0m │\n",
       "└─────────────────────────────────┴────────────────────────┴───────────────┘\n"
      ]
     },
     "metadata": {},
     "output_type": "display_data"
    },
    {
     "data": {
      "text/html": [
       "<pre style=\"white-space:pre;overflow-x:auto;line-height:normal;font-family:Menlo,'DejaVu Sans Mono',consolas,'Courier New',monospace\"><span style=\"font-weight: bold\"> Total params: </span><span style=\"color: #00af00; text-decoration-color: #00af00\">19,919</span> (77.81 KB)\n",
       "</pre>\n"
      ],
      "text/plain": [
       "\u001b[1m Total params: \u001b[0m\u001b[38;5;34m19,919\u001b[0m (77.81 KB)\n"
      ]
     },
     "metadata": {},
     "output_type": "display_data"
    },
    {
     "data": {
      "text/html": [
       "<pre style=\"white-space:pre;overflow-x:auto;line-height:normal;font-family:Menlo,'DejaVu Sans Mono',consolas,'Courier New',monospace\"><span style=\"font-weight: bold\"> Trainable params: </span><span style=\"color: #00af00; text-decoration-color: #00af00\">19,919</span> (77.81 KB)\n",
       "</pre>\n"
      ],
      "text/plain": [
       "\u001b[1m Trainable params: \u001b[0m\u001b[38;5;34m19,919\u001b[0m (77.81 KB)\n"
      ]
     },
     "metadata": {},
     "output_type": "display_data"
    },
    {
     "data": {
      "text/html": [
       "<pre style=\"white-space:pre;overflow-x:auto;line-height:normal;font-family:Menlo,'DejaVu Sans Mono',consolas,'Courier New',monospace\"><span style=\"font-weight: bold\"> Non-trainable params: </span><span style=\"color: #00af00; text-decoration-color: #00af00\">0</span> (0.00 B)\n",
       "</pre>\n"
      ],
      "text/plain": [
       "\u001b[1m Non-trainable params: \u001b[0m\u001b[38;5;34m0\u001b[0m (0.00 B)\n"
      ]
     },
     "metadata": {},
     "output_type": "display_data"
    }
   ],
   "source": [
    "model.summary()"
   ]
  },
  {
   "cell_type": "code",
   "execution_count": 108,
   "id": "6b385dec-cbe7-487b-b670-9cc66afcd9a7",
   "metadata": {},
   "outputs": [],
   "source": [
    "model.compile(loss='categorical_crossentropy',\n",
    "              optimizer='rmsprop',\n",
    "              metrics=['accuracy'])"
   ]
  },
  {
   "cell_type": "code",
   "execution_count": 110,
   "id": "617fa213-4fc5-47b1-b450-a5b381d212e9",
   "metadata": {
    "scrolled": true
   },
   "outputs": [
    {
     "name": "stdout",
     "output_type": "stream",
     "text": [
      "Epoch 1/30\n",
      "\u001b[1m1076/1076\u001b[0m \u001b[32m━━━━━━━━━━━━━━━━━━━━\u001b[0m\u001b[37m\u001b[0m \u001b[1m5s\u001b[0m 4ms/step - accuracy: 0.0338 - loss: 25.1978 - val_accuracy: 0.0899 - val_loss: 23.6444\n",
      "Epoch 2/30\n",
      "\u001b[1m1076/1076\u001b[0m \u001b[32m━━━━━━━━━━━━━━━━━━━━\u001b[0m\u001b[37m\u001b[0m \u001b[1m4s\u001b[0m 3ms/step - accuracy: 0.1118 - loss: 24.9946 - val_accuracy: 6.9711e-04 - val_loss: 22.2874\n",
      "Epoch 3/30\n",
      "\u001b[1m1076/1076\u001b[0m \u001b[32m━━━━━━━━━━━━━━━━━━━━\u001b[0m\u001b[37m\u001b[0m \u001b[1m4s\u001b[0m 3ms/step - accuracy: 0.0218 - loss: 24.9241 - val_accuracy: 6.9711e-04 - val_loss: 25.3505\n",
      "Epoch 4/30\n",
      "\u001b[1m1076/1076\u001b[0m \u001b[32m━━━━━━━━━━━━━━━━━━━━\u001b[0m\u001b[37m\u001b[0m \u001b[1m4s\u001b[0m 3ms/step - accuracy: 0.0123 - loss: 24.8415 - val_accuracy: 0.0371 - val_loss: 26.4648\n",
      "Epoch 5/30\n",
      "\u001b[1m1076/1076\u001b[0m \u001b[32m━━━━━━━━━━━━━━━━━━━━\u001b[0m\u001b[37m\u001b[0m \u001b[1m4s\u001b[0m 3ms/step - accuracy: 0.0352 - loss: 25.5090 - val_accuracy: 0.0373 - val_loss: 25.9370\n",
      "Epoch 6/30\n",
      "\u001b[1m1076/1076\u001b[0m \u001b[32m━━━━━━━━━━━━━━━━━━━━\u001b[0m\u001b[37m\u001b[0m \u001b[1m4s\u001b[0m 3ms/step - accuracy: 0.0427 - loss: 25.0347 - val_accuracy: 0.0082 - val_loss: 26.1320\n",
      "Epoch 7/30\n",
      "\u001b[1m1076/1076\u001b[0m \u001b[32m━━━━━━━━━━━━━━━━━━━━\u001b[0m\u001b[37m\u001b[0m \u001b[1m4s\u001b[0m 3ms/step - accuracy: 0.0433 - loss: 25.1249 - val_accuracy: 0.0112 - val_loss: 27.8696\n",
      "Epoch 8/30\n",
      "\u001b[1m1076/1076\u001b[0m \u001b[32m━━━━━━━━━━━━━━━━━━━━\u001b[0m\u001b[37m\u001b[0m \u001b[1m4s\u001b[0m 3ms/step - accuracy: 0.0713 - loss: 25.0523 - val_accuracy: 0.0369 - val_loss: 23.6702\n",
      "Epoch 9/30\n",
      "\u001b[1m1076/1076\u001b[0m \u001b[32m━━━━━━━━━━━━━━━━━━━━\u001b[0m\u001b[37m\u001b[0m \u001b[1m4s\u001b[0m 3ms/step - accuracy: 0.1722 - loss: 24.9344 - val_accuracy: 0.0631 - val_loss: 23.6533\n",
      "Epoch 10/30\n",
      "\u001b[1m1076/1076\u001b[0m \u001b[32m━━━━━━━━━━━━━━━━━━━━\u001b[0m\u001b[37m\u001b[0m \u001b[1m4s\u001b[0m 3ms/step - accuracy: 0.1088 - loss: 24.5594 - val_accuracy: 0.0241 - val_loss: 22.3930\n",
      "Epoch 11/30\n",
      "\u001b[1m1076/1076\u001b[0m \u001b[32m━━━━━━━━━━━━━━━━━━━━\u001b[0m\u001b[37m\u001b[0m \u001b[1m4s\u001b[0m 3ms/step - accuracy: 0.0934 - loss: 24.7239 - val_accuracy: 0.0544 - val_loss: 23.4647\n",
      "Epoch 12/30\n",
      "\u001b[1m1076/1076\u001b[0m \u001b[32m━━━━━━━━━━━━━━━━━━━━\u001b[0m\u001b[37m\u001b[0m \u001b[1m4s\u001b[0m 3ms/step - accuracy: 0.0787 - loss: 24.2627 - val_accuracy: 0.0539 - val_loss: 29.0077\n",
      "Epoch 13/30\n",
      "\u001b[1m1076/1076\u001b[0m \u001b[32m━━━━━━━━━━━━━━━━━━━━\u001b[0m\u001b[37m\u001b[0m \u001b[1m4s\u001b[0m 4ms/step - accuracy: 0.1099 - loss: 24.6410 - val_accuracy: 0.0673 - val_loss: 25.7126\n",
      "Epoch 14/30\n",
      "\u001b[1m1076/1076\u001b[0m \u001b[32m━━━━━━━━━━━━━━━━━━━━\u001b[0m\u001b[37m\u001b[0m \u001b[1m4s\u001b[0m 3ms/step - accuracy: 0.1176 - loss: 24.0935 - val_accuracy: 0.1084 - val_loss: 24.7070\n",
      "Epoch 15/30\n",
      "\u001b[1m1076/1076\u001b[0m \u001b[32m━━━━━━━━━━━━━━━━━━━━\u001b[0m\u001b[37m\u001b[0m \u001b[1m4s\u001b[0m 3ms/step - accuracy: 0.1122 - loss: 23.0549 - val_accuracy: 0.0896 - val_loss: 25.4659\n",
      "Epoch 16/30\n",
      "\u001b[1m1076/1076\u001b[0m \u001b[32m━━━━━━━━━━━━━━━━━━━━\u001b[0m\u001b[37m\u001b[0m \u001b[1m4s\u001b[0m 3ms/step - accuracy: 0.1255 - loss: 23.3613 - val_accuracy: 0.0917 - val_loss: 22.0111\n",
      "Epoch 17/30\n",
      "\u001b[1m1076/1076\u001b[0m \u001b[32m━━━━━━━━━━━━━━━━━━━━\u001b[0m\u001b[37m\u001b[0m \u001b[1m4s\u001b[0m 3ms/step - accuracy: 0.2184 - loss: 23.8201 - val_accuracy: 0.0910 - val_loss: 26.3973\n",
      "Epoch 18/30\n",
      "\u001b[1m1076/1076\u001b[0m \u001b[32m━━━━━━━━━━━━━━━━━━━━\u001b[0m\u001b[37m\u001b[0m \u001b[1m4s\u001b[0m 3ms/step - accuracy: 0.1464 - loss: 23.8095 - val_accuracy: 0.0899 - val_loss: 30.2480\n",
      "Epoch 19/30\n",
      "\u001b[1m1076/1076\u001b[0m \u001b[32m━━━━━━━━━━━━━━━━━━━━\u001b[0m\u001b[37m\u001b[0m \u001b[1m4s\u001b[0m 3ms/step - accuracy: 0.1477 - loss: 23.0450 - val_accuracy: 0.0974 - val_loss: 24.6077\n",
      "Epoch 20/30\n",
      "\u001b[1m1076/1076\u001b[0m \u001b[32m━━━━━━━━━━━━━━━━━━━━\u001b[0m\u001b[37m\u001b[0m \u001b[1m4s\u001b[0m 3ms/step - accuracy: 0.2264 - loss: 22.8299 - val_accuracy: 0.1370 - val_loss: 20.4244\n",
      "Epoch 21/30\n",
      "\u001b[1m1076/1076\u001b[0m \u001b[32m━━━━━━━━━━━━━━━━━━━━\u001b[0m\u001b[37m\u001b[0m \u001b[1m4s\u001b[0m 3ms/step - accuracy: 0.2669 - loss: 22.6840 - val_accuracy: 0.1741 - val_loss: 20.6271\n",
      "Epoch 22/30\n",
      "\u001b[1m1076/1076\u001b[0m \u001b[32m━━━━━━━━━━━━━━━━━━━━\u001b[0m\u001b[37m\u001b[0m \u001b[1m4s\u001b[0m 3ms/step - accuracy: 0.2510 - loss: 22.3569 - val_accuracy: 0.0868 - val_loss: 21.4151\n",
      "Epoch 23/30\n",
      "\u001b[1m1076/1076\u001b[0m \u001b[32m━━━━━━━━━━━━━━━━━━━━\u001b[0m\u001b[37m\u001b[0m \u001b[1m4s\u001b[0m 3ms/step - accuracy: 0.2472 - loss: 22.2128 - val_accuracy: 0.0732 - val_loss: 21.6897\n",
      "Epoch 24/30\n",
      "\u001b[1m1076/1076\u001b[0m \u001b[32m━━━━━━━━━━━━━━━━━━━━\u001b[0m\u001b[37m\u001b[0m \u001b[1m4s\u001b[0m 3ms/step - accuracy: 0.2125 - loss: 22.4695 - val_accuracy: 0.0833 - val_loss: 20.8001\n",
      "Epoch 25/30\n",
      "\u001b[1m1076/1076\u001b[0m \u001b[32m━━━━━━━━━━━━━━━━━━━━\u001b[0m\u001b[37m\u001b[0m \u001b[1m4s\u001b[0m 3ms/step - accuracy: 0.2153 - loss: 22.7148 - val_accuracy: 0.0600 - val_loss: 26.7909\n",
      "Epoch 26/30\n",
      "\u001b[1m1076/1076\u001b[0m \u001b[32m━━━━━━━━━━━━━━━━━━━━\u001b[0m\u001b[37m\u001b[0m \u001b[1m4s\u001b[0m 3ms/step - accuracy: 0.1796 - loss: 22.8086 - val_accuracy: 0.0218 - val_loss: 18.4010\n",
      "Epoch 27/30\n",
      "\u001b[1m1076/1076\u001b[0m \u001b[32m━━━━━━━━━━━━━━━━━━━━\u001b[0m\u001b[37m\u001b[0m \u001b[1m4s\u001b[0m 3ms/step - accuracy: 0.1770 - loss: 21.6304 - val_accuracy: 0.0162 - val_loss: 18.4537\n",
      "Epoch 28/30\n",
      "\u001b[1m1076/1076\u001b[0m \u001b[32m━━━━━━━━━━━━━━━━━━━━\u001b[0m\u001b[37m\u001b[0m \u001b[1m4s\u001b[0m 3ms/step - accuracy: 0.1761 - loss: 21.9513 - val_accuracy: 0.0580 - val_loss: 23.1993\n",
      "Epoch 29/30\n",
      "\u001b[1m1076/1076\u001b[0m \u001b[32m━━━━━━━━━━━━━━━━━━━━\u001b[0m\u001b[37m\u001b[0m \u001b[1m4s\u001b[0m 3ms/step - accuracy: 0.2422 - loss: 24.2597 - val_accuracy: 0.0765 - val_loss: 26.9791\n",
      "Epoch 30/30\n",
      "\u001b[1m1076/1076\u001b[0m \u001b[32m━━━━━━━━━━━━━━━━━━━━\u001b[0m\u001b[37m\u001b[0m \u001b[1m4s\u001b[0m 3ms/step - accuracy: 0.2355 - loss: 23.6732 - val_accuracy: 0.0741 - val_loss: 21.1300\n"
     ]
    },
    {
     "data": {
      "text/plain": [
       "<keras.src.callbacks.history.History at 0x1b51a0b8680>"
      ]
     },
     "execution_count": 110,
     "metadata": {},
     "output_type": "execute_result"
    }
   ],
   "source": [
    "model.fit(X_train,\n",
    "          y_train,\n",
    "          batch_size=batch_size,\n",
    "          validation_data=(X_test, y_test),\n",
    "          epochs=epochs)"
   ]
  },
  {
   "cell_type": "code",
   "execution_count": 112,
   "id": "1f4bd29e-4539-48e7-993c-83e8db667599",
   "metadata": {},
   "outputs": [],
   "source": [
    "def confusion_matrix(y_true, y_pred):\n",
    "    y_true = pd.Series([stations[y] for y in np.argmax(y_true, axis=1)])\n",
    "    y_pred = pd.Series([stations[y] for y in np.argmax(y_pred, axis=1)])\n",
    "\n",
    "    return pd.crosstab(y_true, y_pred, rownames=['True'], colnames=['Pred'])"
   ]
  },
  {
   "cell_type": "code",
   "execution_count": 114,
   "id": "d19854e0-afbf-4a18-a542-034ff9c45503",
   "metadata": {},
   "outputs": [
    {
     "name": "stdout",
     "output_type": "stream",
     "text": [
      "\u001b[1m180/180\u001b[0m \u001b[32m━━━━━━━━━━━━━━━━━━━━\u001b[0m\u001b[37m\u001b[0m \u001b[1m1s\u001b[0m 3ms/step\n",
      "Pred        BASEL  BELGRADE  DEBILT  HEATHROW  LJUBLJANA  MADRID  OSLO\n",
      "True                                                                  \n",
      "BASEL         109      2030      11         1        216     194  1121\n",
      "BELGRADE       10       302       0         0          0      60   720\n",
      "BUDAPEST        2        97       0         0          0       7   108\n",
      "DEBILT          0        23       0         0          0       0    59\n",
      "DUSSELDORF      0        10       0         0          0       0    19\n",
      "HEATHROW        0        55       0         0          0       0    27\n",
      "KASSEL          0         5       0         0          0       0     6\n",
      "LJUBLJANA       0        50       0         0          0       1    10\n",
      "MAASTRICHT      0         4       0         0          0       0     5\n",
      "MADRID          3       350       0         0          1      13    91\n",
      "MUNCHENB        0         4       0         0          0       0     4\n",
      "OSLO            0         4       0         0          0       0     1\n",
      "STOCKHOLM       0         3       0         0          0       0     1\n",
      "VALENTIA        0         1       0         0          0       0     0\n"
     ]
    }
   ],
   "source": [
    "print(confusion_matrix(y_test, model.predict(X_test)))"
   ]
  },
  {
   "cell_type": "markdown",
   "id": "9b4c9691-6205-4512-abc5-5e7ca71ed6b7",
   "metadata": {},
   "source": [
    "## Adjust Hyperparameters, adding convolution and pooling layers, changing optimizer"
   ]
  },
  {
   "cell_type": "code",
   "execution_count": 117,
   "id": "ecda6cfe-3184-435e-83c7-1e8a86ccf1a6",
   "metadata": {},
   "outputs": [
    {
     "name": "stderr",
     "output_type": "stream",
     "text": [
      "C:\\anaconda\\anaconda3\\Lib\\site-packages\\keras\\src\\layers\\convolutional\\base_conv.py:107: UserWarning: Do not pass an `input_shape`/`input_dim` argument to a layer. When using Sequential models, prefer using an `Input(shape)` object as the first layer in the model instead.\n",
      "  super().__init__(activity_regularizer=activity_regularizer, **kwargs)\n",
      "C:\\anaconda\\anaconda3\\Lib\\site-packages\\keras\\src\\layers\\rnn\\rnn.py:200: UserWarning: Do not pass an `input_shape`/`input_dim` argument to a layer. When using Sequential models, prefer using an `Input(shape)` object as the first layer in the model instead.\n",
      "  super().__init__(**kwargs)\n"
     ]
    }
   ],
   "source": [
    "epochs = 25\n",
    "batch_size = 16\n",
    "n_hidden = 8\n",
    "\n",
    "timesteps = len(X_train[0])\n",
    "input_dim = len(X_train[0][0])\n",
    "n_classes = len(y_train[0])\n",
    "\n",
    "model = Sequential()\n",
    "model.add(Conv1D(n_hidden, kernel_size=2, activation='relu', input_shape=(timesteps, input_dim)))\n",
    "model.add(MaxPooling1D())\n",
    "model.add(LSTM(n_hidden, input_shape=(timesteps, input_dim)))\n",
    "model.add(Dropout(0.5))\n",
    "model.add(Dense(n_classes, activation='tanh'))"
   ]
  },
  {
   "cell_type": "code",
   "execution_count": 119,
   "id": "be323562-523a-4605-ba8b-2bc1c60b3ab5",
   "metadata": {},
   "outputs": [
    {
     "data": {
      "text/html": [
       "<pre style=\"white-space:pre;overflow-x:auto;line-height:normal;font-family:Menlo,'DejaVu Sans Mono',consolas,'Courier New',monospace\"><span style=\"font-weight: bold\">Model: \"sequential_3\"</span>\n",
       "</pre>\n"
      ],
      "text/plain": [
       "\u001b[1mModel: \"sequential_3\"\u001b[0m\n"
      ]
     },
     "metadata": {},
     "output_type": "display_data"
    },
    {
     "data": {
      "text/html": [
       "<pre style=\"white-space:pre;overflow-x:auto;line-height:normal;font-family:Menlo,'DejaVu Sans Mono',consolas,'Courier New',monospace\">┏━━━━━━━━━━━━━━━━━━━━━━━━━━━━━━━━━┳━━━━━━━━━━━━━━━━━━━━━━━━┳━━━━━━━━━━━━━━━┓\n",
       "┃<span style=\"font-weight: bold\"> Layer (type)                    </span>┃<span style=\"font-weight: bold\"> Output Shape           </span>┃<span style=\"font-weight: bold\">       Param # </span>┃\n",
       "┡━━━━━━━━━━━━━━━━━━━━━━━━━━━━━━━━━╇━━━━━━━━━━━━━━━━━━━━━━━━╇━━━━━━━━━━━━━━━┩\n",
       "│ conv1d (<span style=\"color: #0087ff; text-decoration-color: #0087ff\">Conv1D</span>)                 │ (<span style=\"color: #00d7ff; text-decoration-color: #00d7ff\">None</span>, <span style=\"color: #00af00; text-decoration-color: #00af00\">14</span>, <span style=\"color: #00af00; text-decoration-color: #00af00\">8</span>)          │           <span style=\"color: #00af00; text-decoration-color: #00af00\">152</span> │\n",
       "├─────────────────────────────────┼────────────────────────┼───────────────┤\n",
       "│ max_pooling1d (<span style=\"color: #0087ff; text-decoration-color: #0087ff\">MaxPooling1D</span>)    │ (<span style=\"color: #00d7ff; text-decoration-color: #00d7ff\">None</span>, <span style=\"color: #00af00; text-decoration-color: #00af00\">7</span>, <span style=\"color: #00af00; text-decoration-color: #00af00\">8</span>)           │             <span style=\"color: #00af00; text-decoration-color: #00af00\">0</span> │\n",
       "├─────────────────────────────────┼────────────────────────┼───────────────┤\n",
       "│ lstm_3 (<span style=\"color: #0087ff; text-decoration-color: #0087ff\">LSTM</span>)                   │ (<span style=\"color: #00d7ff; text-decoration-color: #00d7ff\">None</span>, <span style=\"color: #00af00; text-decoration-color: #00af00\">8</span>)              │           <span style=\"color: #00af00; text-decoration-color: #00af00\">544</span> │\n",
       "├─────────────────────────────────┼────────────────────────┼───────────────┤\n",
       "│ dropout_3 (<span style=\"color: #0087ff; text-decoration-color: #0087ff\">Dropout</span>)             │ (<span style=\"color: #00d7ff; text-decoration-color: #00d7ff\">None</span>, <span style=\"color: #00af00; text-decoration-color: #00af00\">8</span>)              │             <span style=\"color: #00af00; text-decoration-color: #00af00\">0</span> │\n",
       "├─────────────────────────────────┼────────────────────────┼───────────────┤\n",
       "│ dense_3 (<span style=\"color: #0087ff; text-decoration-color: #0087ff\">Dense</span>)                 │ (<span style=\"color: #00d7ff; text-decoration-color: #00d7ff\">None</span>, <span style=\"color: #00af00; text-decoration-color: #00af00\">15</span>)             │           <span style=\"color: #00af00; text-decoration-color: #00af00\">135</span> │\n",
       "└─────────────────────────────────┴────────────────────────┴───────────────┘\n",
       "</pre>\n"
      ],
      "text/plain": [
       "┏━━━━━━━━━━━━━━━━━━━━━━━━━━━━━━━━━┳━━━━━━━━━━━━━━━━━━━━━━━━┳━━━━━━━━━━━━━━━┓\n",
       "┃\u001b[1m \u001b[0m\u001b[1mLayer (type)                   \u001b[0m\u001b[1m \u001b[0m┃\u001b[1m \u001b[0m\u001b[1mOutput Shape          \u001b[0m\u001b[1m \u001b[0m┃\u001b[1m \u001b[0m\u001b[1m      Param #\u001b[0m\u001b[1m \u001b[0m┃\n",
       "┡━━━━━━━━━━━━━━━━━━━━━━━━━━━━━━━━━╇━━━━━━━━━━━━━━━━━━━━━━━━╇━━━━━━━━━━━━━━━┩\n",
       "│ conv1d (\u001b[38;5;33mConv1D\u001b[0m)                 │ (\u001b[38;5;45mNone\u001b[0m, \u001b[38;5;34m14\u001b[0m, \u001b[38;5;34m8\u001b[0m)          │           \u001b[38;5;34m152\u001b[0m │\n",
       "├─────────────────────────────────┼────────────────────────┼───────────────┤\n",
       "│ max_pooling1d (\u001b[38;5;33mMaxPooling1D\u001b[0m)    │ (\u001b[38;5;45mNone\u001b[0m, \u001b[38;5;34m7\u001b[0m, \u001b[38;5;34m8\u001b[0m)           │             \u001b[38;5;34m0\u001b[0m │\n",
       "├─────────────────────────────────┼────────────────────────┼───────────────┤\n",
       "│ lstm_3 (\u001b[38;5;33mLSTM\u001b[0m)                   │ (\u001b[38;5;45mNone\u001b[0m, \u001b[38;5;34m8\u001b[0m)              │           \u001b[38;5;34m544\u001b[0m │\n",
       "├─────────────────────────────────┼────────────────────────┼───────────────┤\n",
       "│ dropout_3 (\u001b[38;5;33mDropout\u001b[0m)             │ (\u001b[38;5;45mNone\u001b[0m, \u001b[38;5;34m8\u001b[0m)              │             \u001b[38;5;34m0\u001b[0m │\n",
       "├─────────────────────────────────┼────────────────────────┼───────────────┤\n",
       "│ dense_3 (\u001b[38;5;33mDense\u001b[0m)                 │ (\u001b[38;5;45mNone\u001b[0m, \u001b[38;5;34m15\u001b[0m)             │           \u001b[38;5;34m135\u001b[0m │\n",
       "└─────────────────────────────────┴────────────────────────┴───────────────┘\n"
      ]
     },
     "metadata": {},
     "output_type": "display_data"
    },
    {
     "data": {
      "text/html": [
       "<pre style=\"white-space:pre;overflow-x:auto;line-height:normal;font-family:Menlo,'DejaVu Sans Mono',consolas,'Courier New',monospace\"><span style=\"font-weight: bold\"> Total params: </span><span style=\"color: #00af00; text-decoration-color: #00af00\">831</span> (3.25 KB)\n",
       "</pre>\n"
      ],
      "text/plain": [
       "\u001b[1m Total params: \u001b[0m\u001b[38;5;34m831\u001b[0m (3.25 KB)\n"
      ]
     },
     "metadata": {},
     "output_type": "display_data"
    },
    {
     "data": {
      "text/html": [
       "<pre style=\"white-space:pre;overflow-x:auto;line-height:normal;font-family:Menlo,'DejaVu Sans Mono',consolas,'Courier New',monospace\"><span style=\"font-weight: bold\"> Trainable params: </span><span style=\"color: #00af00; text-decoration-color: #00af00\">831</span> (3.25 KB)\n",
       "</pre>\n"
      ],
      "text/plain": [
       "\u001b[1m Trainable params: \u001b[0m\u001b[38;5;34m831\u001b[0m (3.25 KB)\n"
      ]
     },
     "metadata": {},
     "output_type": "display_data"
    },
    {
     "data": {
      "text/html": [
       "<pre style=\"white-space:pre;overflow-x:auto;line-height:normal;font-family:Menlo,'DejaVu Sans Mono',consolas,'Courier New',monospace\"><span style=\"font-weight: bold\"> Non-trainable params: </span><span style=\"color: #00af00; text-decoration-color: #00af00\">0</span> (0.00 B)\n",
       "</pre>\n"
      ],
      "text/plain": [
       "\u001b[1m Non-trainable params: \u001b[0m\u001b[38;5;34m0\u001b[0m (0.00 B)\n"
      ]
     },
     "metadata": {},
     "output_type": "display_data"
    }
   ],
   "source": [
    "model.summary()"
   ]
  },
  {
   "cell_type": "code",
   "execution_count": 121,
   "id": "a9c8aa8b-ad06-42f6-8241-48ec563d851c",
   "metadata": {},
   "outputs": [],
   "source": [
    "model.compile(loss='categorical_crossentropy',\n",
    "              optimizer='adam',\n",
    "              metrics=['accuracy'])"
   ]
  },
  {
   "cell_type": "code",
   "execution_count": 123,
   "id": "05c6dfaa-3fdb-48ed-87fd-08726c25db5c",
   "metadata": {},
   "outputs": [
    {
     "name": "stdout",
     "output_type": "stream",
     "text": [
      "Epoch 1/25\n",
      "\u001b[1m1076/1076\u001b[0m \u001b[32m━━━━━━━━━━━━━━━━━━━━\u001b[0m\u001b[37m\u001b[0m \u001b[1m5s\u001b[0m 3ms/step - accuracy: 0.0351 - loss: 21.3744 - val_accuracy: 0.0739 - val_loss: 30.2837\n",
      "Epoch 2/25\n",
      "\u001b[1m1076/1076\u001b[0m \u001b[32m━━━━━━━━━━━━━━━━━━━━\u001b[0m\u001b[37m\u001b[0m \u001b[1m3s\u001b[0m 2ms/step - accuracy: 0.0307 - loss: 24.7237 - val_accuracy: 0.0364 - val_loss: 32.3106\n",
      "Epoch 3/25\n",
      "\u001b[1m1076/1076\u001b[0m \u001b[32m━━━━━━━━━━━━━━━━━━━━\u001b[0m\u001b[37m\u001b[0m \u001b[1m3s\u001b[0m 2ms/step - accuracy: 0.0289 - loss: 29.2903 - val_accuracy: 0.0124 - val_loss: 38.9583\n",
      "Epoch 4/25\n",
      "\u001b[1m1076/1076\u001b[0m \u001b[32m━━━━━━━━━━━━━━━━━━━━\u001b[0m\u001b[37m\u001b[0m \u001b[1m3s\u001b[0m 2ms/step - accuracy: 0.0163 - loss: 28.6211 - val_accuracy: 0.0063 - val_loss: 29.1014\n",
      "Epoch 5/25\n",
      "\u001b[1m1076/1076\u001b[0m \u001b[32m━━━━━━━━━━━━━━━━━━━━\u001b[0m\u001b[37m\u001b[0m \u001b[1m3s\u001b[0m 3ms/step - accuracy: 0.0093 - loss: 26.5345 - val_accuracy: 0.0063 - val_loss: 23.5829\n",
      "Epoch 6/25\n",
      "\u001b[1m1076/1076\u001b[0m \u001b[32m━━━━━━━━━━━━━━━━━━━━\u001b[0m\u001b[37m\u001b[0m \u001b[1m2s\u001b[0m 2ms/step - accuracy: 0.0190 - loss: 26.8307 - val_accuracy: 0.0448 - val_loss: 32.5246\n",
      "Epoch 7/25\n",
      "\u001b[1m1076/1076\u001b[0m \u001b[32m━━━━━━━━━━━━━━━━━━━━\u001b[0m\u001b[37m\u001b[0m \u001b[1m2s\u001b[0m 2ms/step - accuracy: 0.0256 - loss: 24.3280 - val_accuracy: 0.0080 - val_loss: 24.9080\n",
      "Epoch 8/25\n",
      "\u001b[1m1076/1076\u001b[0m \u001b[32m━━━━━━━━━━━━━━━━━━━━\u001b[0m\u001b[37m\u001b[0m \u001b[1m3s\u001b[0m 2ms/step - accuracy: 0.0203 - loss: 24.7205 - val_accuracy: 0.0084 - val_loss: 27.1423\n",
      "Epoch 9/25\n",
      "\u001b[1m1076/1076\u001b[0m \u001b[32m━━━━━━━━━━━━━━━━━━━━\u001b[0m\u001b[37m\u001b[0m \u001b[1m2s\u001b[0m 2ms/step - accuracy: 0.0277 - loss: 28.5777 - val_accuracy: 0.0357 - val_loss: 33.6020\n",
      "Epoch 10/25\n",
      "\u001b[1m1076/1076\u001b[0m \u001b[32m━━━━━━━━━━━━━━━━━━━━\u001b[0m\u001b[37m\u001b[0m \u001b[1m2s\u001b[0m 2ms/step - accuracy: 0.0342 - loss: 28.1750 - val_accuracy: 0.0343 - val_loss: 26.8389\n",
      "Epoch 11/25\n",
      "\u001b[1m1076/1076\u001b[0m \u001b[32m━━━━━━━━━━━━━━━━━━━━\u001b[0m\u001b[37m\u001b[0m \u001b[1m3s\u001b[0m 2ms/step - accuracy: 0.0339 - loss: 26.8805 - val_accuracy: 0.0357 - val_loss: 24.4943\n",
      "Epoch 12/25\n",
      "\u001b[1m1076/1076\u001b[0m \u001b[32m━━━━━━━━━━━━━━━━━━━━\u001b[0m\u001b[37m\u001b[0m \u001b[1m2s\u001b[0m 2ms/step - accuracy: 0.0329 - loss: 27.2784 - val_accuracy: 0.0345 - val_loss: 26.7053\n",
      "Epoch 13/25\n",
      "\u001b[1m1076/1076\u001b[0m \u001b[32m━━━━━━━━━━━━━━━━━━━━\u001b[0m\u001b[37m\u001b[0m \u001b[1m2s\u001b[0m 2ms/step - accuracy: 0.0323 - loss: 26.6613 - val_accuracy: 0.0343 - val_loss: 26.7335\n",
      "Epoch 14/25\n",
      "\u001b[1m1076/1076\u001b[0m \u001b[32m━━━━━━━━━━━━━━━━━━━━\u001b[0m\u001b[37m\u001b[0m \u001b[1m2s\u001b[0m 2ms/step - accuracy: 0.0324 - loss: 26.6345 - val_accuracy: 0.0357 - val_loss: 24.2503\n",
      "Epoch 15/25\n",
      "\u001b[1m1076/1076\u001b[0m \u001b[32m━━━━━━━━━━━━━━━━━━━━\u001b[0m\u001b[37m\u001b[0m \u001b[1m3s\u001b[0m 2ms/step - accuracy: 0.0333 - loss: 26.4542 - val_accuracy: 0.0357 - val_loss: 26.4833\n",
      "Epoch 16/25\n",
      "\u001b[1m1076/1076\u001b[0m \u001b[32m━━━━━━━━━━━━━━━━━━━━\u001b[0m\u001b[37m\u001b[0m \u001b[1m2s\u001b[0m 2ms/step - accuracy: 0.0346 - loss: 26.5854 - val_accuracy: 0.0361 - val_loss: 24.3176\n",
      "Epoch 17/25\n",
      "\u001b[1m1076/1076\u001b[0m \u001b[32m━━━━━━━━━━━━━━━━━━━━\u001b[0m\u001b[37m\u001b[0m \u001b[1m2s\u001b[0m 2ms/step - accuracy: 0.0330 - loss: 25.6000 - val_accuracy: 0.0366 - val_loss: 28.4708\n",
      "Epoch 18/25\n",
      "\u001b[1m1076/1076\u001b[0m \u001b[32m━━━━━━━━━━━━━━━━━━━━\u001b[0m\u001b[37m\u001b[0m \u001b[1m3s\u001b[0m 2ms/step - accuracy: 0.0323 - loss: 25.9632 - val_accuracy: 0.0369 - val_loss: 20.3755\n",
      "Epoch 19/25\n",
      "\u001b[1m1076/1076\u001b[0m \u001b[32m━━━━━━━━━━━━━━━━━━━━\u001b[0m\u001b[37m\u001b[0m \u001b[1m2s\u001b[0m 2ms/step - accuracy: 0.0348 - loss: 25.9257 - val_accuracy: 0.0277 - val_loss: 30.0392\n",
      "Epoch 20/25\n",
      "\u001b[1m1076/1076\u001b[0m \u001b[32m━━━━━━━━━━━━━━━━━━━━\u001b[0m\u001b[37m\u001b[0m \u001b[1m2s\u001b[0m 2ms/step - accuracy: 0.0277 - loss: 29.1160 - val_accuracy: 0.0373 - val_loss: 25.4581\n",
      "Epoch 21/25\n",
      "\u001b[1m1076/1076\u001b[0m \u001b[32m━━━━━━━━━━━━━━━━━━━━\u001b[0m\u001b[37m\u001b[0m \u001b[1m3s\u001b[0m 2ms/step - accuracy: 0.0334 - loss: 23.2479 - val_accuracy: 0.0373 - val_loss: 25.3018\n",
      "Epoch 22/25\n",
      "\u001b[1m1076/1076\u001b[0m \u001b[32m━━━━━━━━━━━━━━━━━━━━\u001b[0m\u001b[37m\u001b[0m \u001b[1m3s\u001b[0m 2ms/step - accuracy: 0.0339 - loss: 28.2230 - val_accuracy: 0.0359 - val_loss: 28.4000\n",
      "Epoch 23/25\n",
      "\u001b[1m1076/1076\u001b[0m \u001b[32m━━━━━━━━━━━━━━━━━━━━\u001b[0m\u001b[37m\u001b[0m \u001b[1m2s\u001b[0m 2ms/step - accuracy: 0.0334 - loss: 28.1428 - val_accuracy: 0.0352 - val_loss: 24.2584\n",
      "Epoch 24/25\n",
      "\u001b[1m1076/1076\u001b[0m \u001b[32m━━━━━━━━━━━━━━━━━━━━\u001b[0m\u001b[37m\u001b[0m \u001b[1m3s\u001b[0m 2ms/step - accuracy: 0.0320 - loss: 25.5860 - val_accuracy: 0.0369 - val_loss: 28.2509\n",
      "Epoch 25/25\n",
      "\u001b[1m1076/1076\u001b[0m \u001b[32m━━━━━━━━━━━━━━━━━━━━\u001b[0m\u001b[37m\u001b[0m \u001b[1m2s\u001b[0m 2ms/step - accuracy: 0.0298 - loss: 25.5000 - val_accuracy: 0.0284 - val_loss: 25.6107\n"
     ]
    },
    {
     "data": {
      "text/plain": [
       "<keras.src.callbacks.history.History at 0x1b51a3f23f0>"
      ]
     },
     "execution_count": 123,
     "metadata": {},
     "output_type": "execute_result"
    }
   ],
   "source": [
    "model.fit(X_train,\n",
    "          y_train,\n",
    "          batch_size=batch_size,\n",
    "          validation_data=(X_test, y_test),\n",
    "          epochs=epochs)"
   ]
  },
  {
   "cell_type": "code",
   "execution_count": 125,
   "id": "5dec18c3-75a8-4b8f-a799-0ec01771220f",
   "metadata": {},
   "outputs": [],
   "source": [
    "def confusion_matrix(y_true, y_pred):\n",
    "    y_true = pd.Series([stations[y] for y in np.argmax(y_true, axis=1)])\n",
    "    y_pred = pd.Series([stations[y] for y in np.argmax(y_pred, axis=1)])\n",
    "\n",
    "    return pd.crosstab(y_true, y_pred, rownames=['True'], colnames=['Pred'])"
   ]
  },
  {
   "cell_type": "code",
   "execution_count": 127,
   "id": "99298a03-8c50-437a-8bd3-a2cc6cfb20c4",
   "metadata": {
    "scrolled": true
   },
   "outputs": [
    {
     "name": "stdout",
     "output_type": "stream",
     "text": [
      "\u001b[1m180/180\u001b[0m \u001b[32m━━━━━━━━━━━━━━━━━━━━\u001b[0m\u001b[37m\u001b[0m \u001b[1m1s\u001b[0m 2ms/step\n",
      "Pred        BUDAPEST  DUSSELDORF  HEATHROW  LJUBLJANA  MAASTRICHT  MADRID  \\\n",
      "True                                                                        \n",
      "BASEL           1248         441         1        386         317       1   \n",
      "BELGRADE         618         295         0         82           8       0   \n",
      "BUDAPEST         149          31         0         20           0       0   \n",
      "DEBILT            68          10         0          4           0       0   \n",
      "DUSSELDORF        20           4         0          3           0       0   \n",
      "HEATHROW          47           9         0         14           0       0   \n",
      "KASSEL             8           1         0          0           0       0   \n",
      "LJUBLJANA         32           4         0          9           0       0   \n",
      "MAASTRICHT         5           3         0          1           0       0   \n",
      "MADRID           152          44         0         64           2       0   \n",
      "MUNCHENB           2           4         0          1           0       0   \n",
      "OSLO               4           0         0          0           0       0   \n",
      "STOCKHOLM          4           0         0          0           0       0   \n",
      "VALENTIA           0           0         0          0           0       0   \n",
      "\n",
      "Pred        OSLO  \n",
      "True              \n",
      "BASEL       1288  \n",
      "BELGRADE      89  \n",
      "BUDAPEST      14  \n",
      "DEBILT         0  \n",
      "DUSSELDORF     2  \n",
      "HEATHROW      12  \n",
      "KASSEL         2  \n",
      "LJUBLJANA     16  \n",
      "MAASTRICHT     0  \n",
      "MADRID       196  \n",
      "MUNCHENB       1  \n",
      "OSLO           1  \n",
      "STOCKHOLM      0  \n",
      "VALENTIA       1  \n"
     ]
    }
   ],
   "source": [
    "print(confusion_matrix(y_test, model.predict(X_test)))"
   ]
  },
  {
   "cell_type": "markdown",
   "id": "8a77571d-872f-4b38-94b4-91cc28fb845c",
   "metadata": {},
   "source": [
    "## Hyperparameters2"
   ]
  },
  {
   "cell_type": "code",
   "execution_count": 130,
   "id": "c9d19f33-19f6-4fb4-9615-993186f2df78",
   "metadata": {},
   "outputs": [
    {
     "name": "stderr",
     "output_type": "stream",
     "text": [
      "C:\\anaconda\\anaconda3\\Lib\\site-packages\\keras\\src\\layers\\rnn\\rnn.py:200: UserWarning: Do not pass an `input_shape`/`input_dim` argument to a layer. When using Sequential models, prefer using an `Input(shape)` object as the first layer in the model instead.\n",
      "  super().__init__(**kwargs)\n"
     ]
    }
   ],
   "source": [
    "epochs = 10\n",
    "batch_size = 4\n",
    "n_hidden = 4\n",
    "\n",
    "timesteps = len(X_train[0])\n",
    "input_dim = len(X_train[0][0])\n",
    "n_classes = len(y_train[0])\n",
    "\n",
    "model = Sequential()\n",
    "model.add(LSTM(n_hidden, input_shape=(timesteps, input_dim)))\n",
    "model.add(Dropout(0.5))\n",
    "model.add(Dense(n_classes, activation='sigmoid'))"
   ]
  },
  {
   "cell_type": "code",
   "execution_count": 132,
   "id": "0864a448-eb3a-4f26-b044-3061d70f1dc4",
   "metadata": {
    "scrolled": true
   },
   "outputs": [
    {
     "data": {
      "text/html": [
       "<pre style=\"white-space:pre;overflow-x:auto;line-height:normal;font-family:Menlo,'DejaVu Sans Mono',consolas,'Courier New',monospace\"><span style=\"font-weight: bold\">Model: \"sequential_4\"</span>\n",
       "</pre>\n"
      ],
      "text/plain": [
       "\u001b[1mModel: \"sequential_4\"\u001b[0m\n"
      ]
     },
     "metadata": {},
     "output_type": "display_data"
    },
    {
     "data": {
      "text/html": [
       "<pre style=\"white-space:pre;overflow-x:auto;line-height:normal;font-family:Menlo,'DejaVu Sans Mono',consolas,'Courier New',monospace\">┏━━━━━━━━━━━━━━━━━━━━━━━━━━━━━━━━━┳━━━━━━━━━━━━━━━━━━━━━━━━┳━━━━━━━━━━━━━━━┓\n",
       "┃<span style=\"font-weight: bold\"> Layer (type)                    </span>┃<span style=\"font-weight: bold\"> Output Shape           </span>┃<span style=\"font-weight: bold\">       Param # </span>┃\n",
       "┡━━━━━━━━━━━━━━━━━━━━━━━━━━━━━━━━━╇━━━━━━━━━━━━━━━━━━━━━━━━╇━━━━━━━━━━━━━━━┩\n",
       "│ lstm_4 (<span style=\"color: #0087ff; text-decoration-color: #0087ff\">LSTM</span>)                   │ (<span style=\"color: #00d7ff; text-decoration-color: #00d7ff\">None</span>, <span style=\"color: #00af00; text-decoration-color: #00af00\">4</span>)              │           <span style=\"color: #00af00; text-decoration-color: #00af00\">224</span> │\n",
       "├─────────────────────────────────┼────────────────────────┼───────────────┤\n",
       "│ dropout_4 (<span style=\"color: #0087ff; text-decoration-color: #0087ff\">Dropout</span>)             │ (<span style=\"color: #00d7ff; text-decoration-color: #00d7ff\">None</span>, <span style=\"color: #00af00; text-decoration-color: #00af00\">4</span>)              │             <span style=\"color: #00af00; text-decoration-color: #00af00\">0</span> │\n",
       "├─────────────────────────────────┼────────────────────────┼───────────────┤\n",
       "│ dense_4 (<span style=\"color: #0087ff; text-decoration-color: #0087ff\">Dense</span>)                 │ (<span style=\"color: #00d7ff; text-decoration-color: #00d7ff\">None</span>, <span style=\"color: #00af00; text-decoration-color: #00af00\">15</span>)             │            <span style=\"color: #00af00; text-decoration-color: #00af00\">75</span> │\n",
       "└─────────────────────────────────┴────────────────────────┴───────────────┘\n",
       "</pre>\n"
      ],
      "text/plain": [
       "┏━━━━━━━━━━━━━━━━━━━━━━━━━━━━━━━━━┳━━━━━━━━━━━━━━━━━━━━━━━━┳━━━━━━━━━━━━━━━┓\n",
       "┃\u001b[1m \u001b[0m\u001b[1mLayer (type)                   \u001b[0m\u001b[1m \u001b[0m┃\u001b[1m \u001b[0m\u001b[1mOutput Shape          \u001b[0m\u001b[1m \u001b[0m┃\u001b[1m \u001b[0m\u001b[1m      Param #\u001b[0m\u001b[1m \u001b[0m┃\n",
       "┡━━━━━━━━━━━━━━━━━━━━━━━━━━━━━━━━━╇━━━━━━━━━━━━━━━━━━━━━━━━╇━━━━━━━━━━━━━━━┩\n",
       "│ lstm_4 (\u001b[38;5;33mLSTM\u001b[0m)                   │ (\u001b[38;5;45mNone\u001b[0m, \u001b[38;5;34m4\u001b[0m)              │           \u001b[38;5;34m224\u001b[0m │\n",
       "├─────────────────────────────────┼────────────────────────┼───────────────┤\n",
       "│ dropout_4 (\u001b[38;5;33mDropout\u001b[0m)             │ (\u001b[38;5;45mNone\u001b[0m, \u001b[38;5;34m4\u001b[0m)              │             \u001b[38;5;34m0\u001b[0m │\n",
       "├─────────────────────────────────┼────────────────────────┼───────────────┤\n",
       "│ dense_4 (\u001b[38;5;33mDense\u001b[0m)                 │ (\u001b[38;5;45mNone\u001b[0m, \u001b[38;5;34m15\u001b[0m)             │            \u001b[38;5;34m75\u001b[0m │\n",
       "└─────────────────────────────────┴────────────────────────┴───────────────┘\n"
      ]
     },
     "metadata": {},
     "output_type": "display_data"
    },
    {
     "data": {
      "text/html": [
       "<pre style=\"white-space:pre;overflow-x:auto;line-height:normal;font-family:Menlo,'DejaVu Sans Mono',consolas,'Courier New',monospace\"><span style=\"font-weight: bold\"> Total params: </span><span style=\"color: #00af00; text-decoration-color: #00af00\">299</span> (1.17 KB)\n",
       "</pre>\n"
      ],
      "text/plain": [
       "\u001b[1m Total params: \u001b[0m\u001b[38;5;34m299\u001b[0m (1.17 KB)\n"
      ]
     },
     "metadata": {},
     "output_type": "display_data"
    },
    {
     "data": {
      "text/html": [
       "<pre style=\"white-space:pre;overflow-x:auto;line-height:normal;font-family:Menlo,'DejaVu Sans Mono',consolas,'Courier New',monospace\"><span style=\"font-weight: bold\"> Trainable params: </span><span style=\"color: #00af00; text-decoration-color: #00af00\">299</span> (1.17 KB)\n",
       "</pre>\n"
      ],
      "text/plain": [
       "\u001b[1m Trainable params: \u001b[0m\u001b[38;5;34m299\u001b[0m (1.17 KB)\n"
      ]
     },
     "metadata": {},
     "output_type": "display_data"
    },
    {
     "data": {
      "text/html": [
       "<pre style=\"white-space:pre;overflow-x:auto;line-height:normal;font-family:Menlo,'DejaVu Sans Mono',consolas,'Courier New',monospace\"><span style=\"font-weight: bold\"> Non-trainable params: </span><span style=\"color: #00af00; text-decoration-color: #00af00\">0</span> (0.00 B)\n",
       "</pre>\n"
      ],
      "text/plain": [
       "\u001b[1m Non-trainable params: \u001b[0m\u001b[38;5;34m0\u001b[0m (0.00 B)\n"
      ]
     },
     "metadata": {},
     "output_type": "display_data"
    }
   ],
   "source": [
    "model.summary()"
   ]
  },
  {
   "cell_type": "code",
   "execution_count": 134,
   "id": "b8b44b3f-2079-4703-9311-fdabac031f38",
   "metadata": {},
   "outputs": [],
   "source": [
    "model.compile(loss='categorical_crossentropy',\n",
    "              optimizer='rmsprop',\n",
    "              metrics=['accuracy'])"
   ]
  },
  {
   "cell_type": "code",
   "execution_count": 136,
   "id": "b8bedac5-7a41-45f5-abaf-d012141dd7d2",
   "metadata": {},
   "outputs": [
    {
     "name": "stdout",
     "output_type": "stream",
     "text": [
      "Epoch 1/10\n",
      "\u001b[1m4303/4303\u001b[0m \u001b[32m━━━━━━━━━━━━━━━━━━━━\u001b[0m\u001b[37m\u001b[0m \u001b[1m10s\u001b[0m 2ms/step - accuracy: 0.0881 - loss: 8.7642 - val_accuracy: 0.0793 - val_loss: 8.4874\n",
      "Epoch 2/10\n",
      "\u001b[1m4303/4303\u001b[0m \u001b[32m━━━━━━━━━━━━━━━━━━━━\u001b[0m\u001b[37m\u001b[0m \u001b[1m8s\u001b[0m 2ms/step - accuracy: 0.1613 - loss: 9.0643 - val_accuracy: 0.3099 - val_loss: 9.3844\n",
      "Epoch 3/10\n",
      "\u001b[1m4303/4303\u001b[0m \u001b[32m━━━━━━━━━━━━━━━━━━━━\u001b[0m\u001b[37m\u001b[0m \u001b[1m9s\u001b[0m 2ms/step - accuracy: 0.2571 - loss: 10.0929 - val_accuracy: 0.3083 - val_loss: 10.0768\n",
      "Epoch 4/10\n",
      "\u001b[1m4303/4303\u001b[0m \u001b[32m━━━━━━━━━━━━━━━━━━━━\u001b[0m\u001b[37m\u001b[0m \u001b[1m9s\u001b[0m 2ms/step - accuracy: 0.2862 - loss: 10.5610 - val_accuracy: 0.3118 - val_loss: 10.7365\n",
      "Epoch 5/10\n",
      "\u001b[1m4303/4303\u001b[0m \u001b[32m━━━━━━━━━━━━━━━━━━━━\u001b[0m\u001b[37m\u001b[0m \u001b[1m8s\u001b[0m 2ms/step - accuracy: 0.2811 - loss: 11.1254 - val_accuracy: 0.3130 - val_loss: 11.2042\n",
      "Epoch 6/10\n",
      "\u001b[1m4303/4303\u001b[0m \u001b[32m━━━━━━━━━━━━━━━━━━━━\u001b[0m\u001b[37m\u001b[0m \u001b[1m9s\u001b[0m 2ms/step - accuracy: 0.2767 - loss: 11.6994 - val_accuracy: 0.3158 - val_loss: 11.7429\n",
      "Epoch 7/10\n",
      "\u001b[1m4303/4303\u001b[0m \u001b[32m━━━━━━━━━━━━━━━━━━━━\u001b[0m\u001b[37m\u001b[0m \u001b[1m8s\u001b[0m 2ms/step - accuracy: 0.3291 - loss: 12.3461 - val_accuracy: 0.3132 - val_loss: 12.2034\n",
      "Epoch 8/10\n",
      "\u001b[1m4303/4303\u001b[0m \u001b[32m━━━━━━━━━━━━━━━━━━━━\u001b[0m\u001b[37m\u001b[0m \u001b[1m9s\u001b[0m 2ms/step - accuracy: 0.3574 - loss: 12.9610 - val_accuracy: 0.3093 - val_loss: 12.7002\n",
      "Epoch 9/10\n",
      "\u001b[1m4303/4303\u001b[0m \u001b[32m━━━━━━━━━━━━━━━━━━━━\u001b[0m\u001b[37m\u001b[0m \u001b[1m9s\u001b[0m 2ms/step - accuracy: 0.4364 - loss: 13.2569 - val_accuracy: 0.3066 - val_loss: 13.0456\n",
      "Epoch 10/10\n",
      "\u001b[1m4303/4303\u001b[0m \u001b[32m━━━━━━━━━━━━━━━━━━━━\u001b[0m\u001b[37m\u001b[0m \u001b[1m9s\u001b[0m 2ms/step - accuracy: 0.4300 - loss: 13.4171 - val_accuracy: 0.3154 - val_loss: 13.6378\n"
     ]
    },
    {
     "data": {
      "text/plain": [
       "<keras.src.callbacks.history.History at 0x1b52057d2b0>"
      ]
     },
     "execution_count": 136,
     "metadata": {},
     "output_type": "execute_result"
    }
   ],
   "source": [
    "model.fit(X_train,\n",
    "          y_train,\n",
    "          batch_size=batch_size,\n",
    "          validation_data=(X_test, y_test),\n",
    "          epochs=epochs)"
   ]
  },
  {
   "cell_type": "code",
   "execution_count": 140,
   "id": "5395bbb5-19e3-4a5f-8e17-9b7e47e50c59",
   "metadata": {},
   "outputs": [],
   "source": [
    "def confusion_matrix(y_true, y_pred):\n",
    "    y_true = pd.Series([stations[y] for y in np.argmax(y_true, axis=1)])\n",
    "    y_pred = pd.Series([stations[y] for y in np.argmax(y_pred, axis=1)])\n",
    "\n",
    "    return pd.crosstab(y_true, y_pred, rownames=['True'], colnames=['Pred'])"
   ]
  },
  {
   "cell_type": "code",
   "execution_count": 142,
   "id": "3a4bed98-09cc-4fb6-8977-bec9d422c0a1",
   "metadata": {},
   "outputs": [
    {
     "name": "stdout",
     "output_type": "stream",
     "text": [
      "\u001b[1m180/180\u001b[0m \u001b[32m━━━━━━━━━━━━━━━━━━━━\u001b[0m\u001b[37m\u001b[0m \u001b[1m1s\u001b[0m 3ms/step\n",
      "Pred        BASEL  MADRID\n",
      "True                     \n",
      "BASEL        1555    2127\n",
      "BELGRADE     1030      62\n",
      "BUDAPEST      210       4\n",
      "DEBILT         82       0\n",
      "DUSSELDORF     28       1\n",
      "HEATHROW       69      13\n",
      "KASSEL         11       0\n",
      "LJUBLJANA      55       6\n",
      "MAASTRICHT      5       4\n",
      "MADRID        203     255\n",
      "MUNCHENB        7       1\n",
      "OSLO            4       1\n",
      "STOCKHOLM       4       0\n",
      "VALENTIA        0       1\n"
     ]
    }
   ],
   "source": [
    "print(confusion_matrix(y_test, model.predict(X_test)))"
   ]
  },
  {
   "cell_type": "code",
   "execution_count": null,
   "id": "555bdb59-0988-4f8e-9cc6-6fddf2f85846",
   "metadata": {},
   "outputs": [],
   "source": []
  }
 ],
 "metadata": {
  "kernelspec": {
   "display_name": "Python 3 (ipykernel)",
   "language": "python",
   "name": "python3"
  },
  "language_info": {
   "codemirror_mode": {
    "name": "ipython",
    "version": 3
   },
   "file_extension": ".py",
   "mimetype": "text/x-python",
   "name": "python",
   "nbconvert_exporter": "python",
   "pygments_lexer": "ipython3",
   "version": "3.12.4"
  }
 },
 "nbformat": 4,
 "nbformat_minor": 5
}
